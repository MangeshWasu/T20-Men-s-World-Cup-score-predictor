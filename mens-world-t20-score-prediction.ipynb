{
 "cells": [
  {
   "cell_type": "code",
   "execution_count": 1,
   "id": "f34e8ddc",
   "metadata": {
    "_cell_guid": "b1076dfc-b9ad-4769-8c92-a6c4dae69d19",
    "_uuid": "8f2839f25d086af736a60e9eeb907d3b93b6e0e5",
    "execution": {
     "iopub.execute_input": "2023-04-10T14:29:50.772095Z",
     "iopub.status.busy": "2023-04-10T14:29:50.771467Z",
     "iopub.status.idle": "2023-04-10T14:29:50.818114Z",
     "shell.execute_reply": "2023-04-10T14:29:50.816756Z"
    },
    "papermill": {
     "duration": 0.073164,
     "end_time": "2023-04-10T14:29:50.821767",
     "exception": false,
     "start_time": "2023-04-10T14:29:50.748603",
     "status": "completed"
    },
    "tags": []
   },
   "outputs": [
    {
     "data": {
      "text/plain": [
       "'Tqdm is a Python library used to display smart progress\\n bars that show the progress of your Python code execution.\\n This library can also be used to see the progress of a \\n machine learning model while training the model on a very large data set.'"
      ]
     },
     "execution_count": 1,
     "metadata": {},
     "output_type": "execute_result"
    }
   ],
   "source": [
    "import pandas as pd\n",
    "import numpy as np\n",
    "\n",
    "from yaml import safe_load\n",
    "import os\n",
    "\n",
    "from tqdm import tqdm\n",
    "'''Tqdm is a Python library used to display smart progress\n",
    " bars that show the progress of your Python code execution.\n",
    " This library can also be used to see the progress of a \n",
    " machine learning model while training the model on a very large data set.'''\n"
   ]
  },
  {
   "cell_type": "code",
   "execution_count": 2,
   "id": "8fa094c1",
   "metadata": {
    "execution": {
     "iopub.execute_input": "2023-04-10T14:29:50.859322Z",
     "iopub.status.busy": "2023-04-10T14:29:50.858873Z",
     "iopub.status.idle": "2023-04-10T14:29:52.241598Z",
     "shell.execute_reply": "2023-04-10T14:29:52.240352Z"
    },
    "papermill": {
     "duration": 1.404829,
     "end_time": "2023-04-10T14:29:52.244473",
     "exception": false,
     "start_time": "2023-04-10T14:29:50.839644",
     "status": "completed"
    },
    "tags": []
   },
   "outputs": [],
   "source": [
    "from sklearn.model_selection import train_test_split\n",
    "from sklearn.compose import ColumnTransformer\n",
    "from sklearn.preprocessing import OneHotEncoder,StandardScaler\n",
    "from sklearn.pipeline import Pipeline\n",
    "from sklearn.linear_model import LinearRegression\n",
    "from sklearn.ensemble import RandomForestRegressor\n",
    "from xgboost import XGBRegressor\n",
    "from sklearn.metrics import r2_score,mean_absolute_error"
   ]
  },
  {
   "cell_type": "markdown",
   "id": "a4223fe4",
   "metadata": {
    "papermill": {
     "duration": 0.017214,
     "end_time": "2023-04-10T14:29:52.279041",
     "exception": false,
     "start_time": "2023-04-10T14:29:52.261827",
     "status": "completed"
    },
    "tags": []
   },
   "source": [
    "## For Converting the yaml file into padas's dataframe"
   ]
  },
  {
   "cell_type": "code",
   "execution_count": 3,
   "id": "fb986c6f",
   "metadata": {
    "execution": {
     "iopub.execute_input": "2023-04-10T14:29:52.315805Z",
     "iopub.status.busy": "2023-04-10T14:29:52.315412Z",
     "iopub.status.idle": "2023-04-10T14:29:52.458484Z",
     "shell.execute_reply": "2023-04-10T14:29:52.457228Z"
    },
    "papermill": {
     "duration": 0.164388,
     "end_time": "2023-04-10T14:29:52.461352",
     "exception": false,
     "start_time": "2023-04-10T14:29:52.296964",
     "status": "completed"
    },
    "tags": []
   },
   "outputs": [],
   "source": [
    "filename=[]\n",
    "for file in os.listdir('/kaggle/input/world-t20-yaml-file/t20s_zip_file'):\n",
    "    filename.append(os.path.join('/kaggle/input/world-t20-yaml-file/t20s_zip_file',file))"
   ]
  },
  {
   "cell_type": "code",
   "execution_count": 4,
   "id": "8fd95d65",
   "metadata": {
    "execution": {
     "iopub.execute_input": "2023-04-10T14:29:52.497628Z",
     "iopub.status.busy": "2023-04-10T14:29:52.497225Z",
     "iopub.status.idle": "2023-04-10T14:38:05.334953Z",
     "shell.execute_reply": "2023-04-10T14:38:05.333422Z"
    },
    "papermill": {
     "duration": 492.860008,
     "end_time": "2023-04-10T14:38:05.338709",
     "exception": false,
     "start_time": "2023-04-10T14:29:52.478701",
     "status": "completed"
    },
    "tags": []
   },
   "outputs": [
    {
     "name": "stderr",
     "output_type": "stream",
     "text": [
      "100%|██████████| 1433/1433 [08:12<00:00,  2.91it/s]\n"
     ]
    }
   ],
   "source": [
    "final_df=pd.DataFrame()\n",
    "counter=1\n",
    "for file in tqdm(filename):\n",
    "    with open(file,'r') as f:\n",
    "        if file.split('.')[1]!='yaml': \n",
    "            #there are some .txt file present in the zip file\n",
    "            # and it cause error while json_normalize\n",
    "            continue\n",
    "        else:\n",
    "            df=pd.json_normalize(safe_load(f))\n",
    "            df['match_id']=counter\n",
    "            final_df=final_df.append(df)\n",
    "            counter+=1"
   ]
  },
  {
   "cell_type": "code",
   "execution_count": 5,
   "id": "186f1815",
   "metadata": {
    "execution": {
     "iopub.execute_input": "2023-04-10T14:38:05.579784Z",
     "iopub.status.busy": "2023-04-10T14:38:05.579071Z",
     "iopub.status.idle": "2023-04-10T14:38:05.583802Z",
     "shell.execute_reply": "2023-04-10T14:38:05.582971Z"
    },
    "papermill": {
     "duration": 0.129222,
     "end_time": "2023-04-10T14:38:05.585986",
     "exception": false,
     "start_time": "2023-04-10T14:38:05.456764",
     "status": "completed"
    },
    "tags": []
   },
   "outputs": [],
   "source": [
    "pd.set_option('display.max_columns',None)"
   ]
  },
  {
   "cell_type": "code",
   "execution_count": 6,
   "id": "127177a7",
   "metadata": {
    "execution": {
     "iopub.execute_input": "2023-04-10T14:38:05.793899Z",
     "iopub.status.busy": "2023-04-10T14:38:05.793108Z",
     "iopub.status.idle": "2023-04-10T14:38:05.842873Z",
     "shell.execute_reply": "2023-04-10T14:38:05.841775Z"
    },
    "papermill": {
     "duration": 0.157346,
     "end_time": "2023-04-10T14:38:05.845411",
     "exception": false,
     "start_time": "2023-04-10T14:38:05.688065",
     "status": "completed"
    },
    "tags": []
   },
   "outputs": [
    {
     "data": {
      "text/html": [
       "<div>\n",
       "<style scoped>\n",
       "    .dataframe tbody tr th:only-of-type {\n",
       "        vertical-align: middle;\n",
       "    }\n",
       "\n",
       "    .dataframe tbody tr th {\n",
       "        vertical-align: top;\n",
       "    }\n",
       "\n",
       "    .dataframe thead th {\n",
       "        text-align: right;\n",
       "    }\n",
       "</style>\n",
       "<table border=\"1\" class=\"dataframe\">\n",
       "  <thead>\n",
       "    <tr style=\"text-align: right;\">\n",
       "      <th></th>\n",
       "      <th>innings</th>\n",
       "      <th>meta.data_version</th>\n",
       "      <th>meta.created</th>\n",
       "      <th>meta.revision</th>\n",
       "      <th>info.city</th>\n",
       "      <th>info.dates</th>\n",
       "      <th>info.gender</th>\n",
       "      <th>info.match_type</th>\n",
       "      <th>info.neutral_venue</th>\n",
       "      <th>info.outcome.by.wickets</th>\n",
       "      <th>info.outcome.winner</th>\n",
       "      <th>info.overs</th>\n",
       "      <th>info.player_of_match</th>\n",
       "      <th>info.teams</th>\n",
       "      <th>info.toss.decision</th>\n",
       "      <th>info.toss.winner</th>\n",
       "      <th>info.umpires</th>\n",
       "      <th>info.venue</th>\n",
       "      <th>match_id</th>\n",
       "      <th>info.match_type_number</th>\n",
       "      <th>info.outcome.by.runs</th>\n",
       "      <th>info.outcome.method</th>\n",
       "      <th>info.outcome.result</th>\n",
       "      <th>info.outcome.eliminator</th>\n",
       "      <th>info.bowl_out</th>\n",
       "      <th>info.outcome.bowl_out</th>\n",
       "      <th>info.supersubs.New Zealand</th>\n",
       "      <th>info.supersubs.South Africa</th>\n",
       "    </tr>\n",
       "  </thead>\n",
       "  <tbody>\n",
       "    <tr>\n",
       "      <th>0</th>\n",
       "      <td>[{'1st innings': {'team': 'Fiji', 'deliveries'...</td>\n",
       "      <td>0.9</td>\n",
       "      <td>2019-11-01</td>\n",
       "      <td>1</td>\n",
       "      <td>Port Vila</td>\n",
       "      <td>[2019-05-10]</td>\n",
       "      <td>female</td>\n",
       "      <td>T20</td>\n",
       "      <td>NaN</td>\n",
       "      <td>8.0</td>\n",
       "      <td>Indonesia</td>\n",
       "      <td>20</td>\n",
       "      <td>[N Sitompul]</td>\n",
       "      <td>[Fiji, Indonesia]</td>\n",
       "      <td>field</td>\n",
       "      <td>Indonesia</td>\n",
       "      <td>[Kim Cotton, ZK Shem]</td>\n",
       "      <td>Ground 1, Independence Park</td>\n",
       "      <td>308</td>\n",
       "      <td>649.0</td>\n",
       "      <td>NaN</td>\n",
       "      <td>NaN</td>\n",
       "      <td>NaN</td>\n",
       "      <td>NaN</td>\n",
       "      <td>NaN</td>\n",
       "      <td>NaN</td>\n",
       "      <td>NaN</td>\n",
       "      <td>NaN</td>\n",
       "    </tr>\n",
       "    <tr>\n",
       "      <th>0</th>\n",
       "      <td>[{'1st innings': {'team': 'Italy', 'deliveries...</td>\n",
       "      <td>0.9</td>\n",
       "      <td>2019-06-20</td>\n",
       "      <td>1</td>\n",
       "      <td>St Peter Port</td>\n",
       "      <td>[2019-06-16]</td>\n",
       "      <td>male</td>\n",
       "      <td>T20</td>\n",
       "      <td>NaN</td>\n",
       "      <td>NaN</td>\n",
       "      <td>Italy</td>\n",
       "      <td>20</td>\n",
       "      <td>NaN</td>\n",
       "      <td>[Guernsey, Italy]</td>\n",
       "      <td>field</td>\n",
       "      <td>Guernsey</td>\n",
       "      <td>[AG Wharf, MV Waldron]</td>\n",
       "      <td>College Field</td>\n",
       "      <td>1396</td>\n",
       "      <td>796.0</td>\n",
       "      <td>11.0</td>\n",
       "      <td>NaN</td>\n",
       "      <td>NaN</td>\n",
       "      <td>NaN</td>\n",
       "      <td>NaN</td>\n",
       "      <td>NaN</td>\n",
       "      <td>NaN</td>\n",
       "      <td>NaN</td>\n",
       "    </tr>\n",
       "    <tr>\n",
       "      <th>0</th>\n",
       "      <td>[{'1st innings': {'team': 'Nepal', 'deliveries...</td>\n",
       "      <td>0.9</td>\n",
       "      <td>2015-07-18</td>\n",
       "      <td>1</td>\n",
       "      <td>Dublin</td>\n",
       "      <td>[2015-07-17]</td>\n",
       "      <td>male</td>\n",
       "      <td>T20</td>\n",
       "      <td>1.0</td>\n",
       "      <td>8.0</td>\n",
       "      <td>Papua New Guinea</td>\n",
       "      <td>20</td>\n",
       "      <td>[A Vala]</td>\n",
       "      <td>[Nepal, Papua New Guinea]</td>\n",
       "      <td>field</td>\n",
       "      <td>Papua New Guinea</td>\n",
       "      <td>[JD Cloete, RT Robinson]</td>\n",
       "      <td>The Village, Malahide</td>\n",
       "      <td>1363</td>\n",
       "      <td>NaN</td>\n",
       "      <td>NaN</td>\n",
       "      <td>NaN</td>\n",
       "      <td>NaN</td>\n",
       "      <td>NaN</td>\n",
       "      <td>NaN</td>\n",
       "      <td>NaN</td>\n",
       "      <td>NaN</td>\n",
       "      <td>NaN</td>\n",
       "    </tr>\n",
       "  </tbody>\n",
       "</table>\n",
       "</div>"
      ],
      "text/plain": [
       "                                             innings  meta.data_version  \\\n",
       "0  [{'1st innings': {'team': 'Fiji', 'deliveries'...                0.9   \n",
       "0  [{'1st innings': {'team': 'Italy', 'deliveries...                0.9   \n",
       "0  [{'1st innings': {'team': 'Nepal', 'deliveries...                0.9   \n",
       "\n",
       "  meta.created  meta.revision      info.city    info.dates info.gender  \\\n",
       "0   2019-11-01              1      Port Vila  [2019-05-10]      female   \n",
       "0   2019-06-20              1  St Peter Port  [2019-06-16]        male   \n",
       "0   2015-07-18              1         Dublin  [2015-07-17]        male   \n",
       "\n",
       "  info.match_type  info.neutral_venue  info.outcome.by.wickets  \\\n",
       "0             T20                 NaN                      8.0   \n",
       "0             T20                 NaN                      NaN   \n",
       "0             T20                 1.0                      8.0   \n",
       "\n",
       "  info.outcome.winner  info.overs info.player_of_match  \\\n",
       "0           Indonesia          20         [N Sitompul]   \n",
       "0               Italy          20                  NaN   \n",
       "0    Papua New Guinea          20             [A Vala]   \n",
       "\n",
       "                  info.teams info.toss.decision  info.toss.winner  \\\n",
       "0          [Fiji, Indonesia]              field         Indonesia   \n",
       "0          [Guernsey, Italy]              field          Guernsey   \n",
       "0  [Nepal, Papua New Guinea]              field  Papua New Guinea   \n",
       "\n",
       "               info.umpires                   info.venue  match_id  \\\n",
       "0     [Kim Cotton, ZK Shem]  Ground 1, Independence Park       308   \n",
       "0    [AG Wharf, MV Waldron]                College Field      1396   \n",
       "0  [JD Cloete, RT Robinson]        The Village, Malahide      1363   \n",
       "\n",
       "   info.match_type_number  info.outcome.by.runs info.outcome.method  \\\n",
       "0                   649.0                   NaN                 NaN   \n",
       "0                   796.0                  11.0                 NaN   \n",
       "0                     NaN                   NaN                 NaN   \n",
       "\n",
       "  info.outcome.result info.outcome.eliminator info.bowl_out  \\\n",
       "0                 NaN                     NaN           NaN   \n",
       "0                 NaN                     NaN           NaN   \n",
       "0                 NaN                     NaN           NaN   \n",
       "\n",
       "  info.outcome.bowl_out info.supersubs.New Zealand info.supersubs.South Africa  \n",
       "0                   NaN                        NaN                         NaN  \n",
       "0                   NaN                        NaN                         NaN  \n",
       "0                   NaN                        NaN                         NaN  "
      ]
     },
     "execution_count": 6,
     "metadata": {},
     "output_type": "execute_result"
    }
   ],
   "source": [
    "final_df.sample(3)"
   ]
  },
  {
   "cell_type": "code",
   "execution_count": 7,
   "id": "7acf571c",
   "metadata": {
    "execution": {
     "iopub.execute_input": "2023-04-10T14:38:06.132339Z",
     "iopub.status.busy": "2023-04-10T14:38:06.131897Z",
     "iopub.status.idle": "2023-04-10T14:38:06.137892Z",
     "shell.execute_reply": "2023-04-10T14:38:06.136997Z"
    },
    "papermill": {
     "duration": 0.192318,
     "end_time": "2023-04-10T14:38:06.140072",
     "exception": false,
     "start_time": "2023-04-10T14:38:05.947754",
     "status": "completed"
    },
    "tags": []
   },
   "outputs": [],
   "source": [
    "df_backup=final_df.copy()"
   ]
  },
  {
   "cell_type": "code",
   "execution_count": 8,
   "id": "295890a1",
   "metadata": {
    "execution": {
     "iopub.execute_input": "2023-04-10T14:38:06.345913Z",
     "iopub.status.busy": "2023-04-10T14:38:06.344810Z",
     "iopub.status.idle": "2023-04-10T14:38:06.372314Z",
     "shell.execute_reply": "2023-04-10T14:38:06.368586Z"
    },
    "papermill": {
     "duration": 0.133175,
     "end_time": "2023-04-10T14:38:06.375073",
     "exception": false,
     "start_time": "2023-04-10T14:38:06.241898",
     "status": "completed"
    },
    "tags": []
   },
   "outputs": [
    {
     "name": "stdout",
     "output_type": "stream",
     "text": [
      "<class 'pandas.core.frame.DataFrame'>\n",
      "Int64Index: 1432 entries, 0 to 0\n",
      "Data columns (total 28 columns):\n",
      " #   Column                       Non-Null Count  Dtype  \n",
      "---  ------                       --------------  -----  \n",
      " 0   innings                      1432 non-null   object \n",
      " 1   meta.data_version            1432 non-null   float64\n",
      " 2   meta.created                 1432 non-null   object \n",
      " 3   meta.revision                1432 non-null   int64  \n",
      " 4   info.city                    1240 non-null   object \n",
      " 5   info.dates                   1432 non-null   object \n",
      " 6   info.gender                  1432 non-null   object \n",
      " 7   info.match_type              1432 non-null   object \n",
      " 8   info.neutral_venue           328 non-null    float64\n",
      " 9   info.outcome.by.wickets      662 non-null    float64\n",
      " 10  info.outcome.winner          1386 non-null   object \n",
      " 11  info.overs                   1432 non-null   int64  \n",
      " 12  info.player_of_match         1269 non-null   object \n",
      " 13  info.teams                   1432 non-null   object \n",
      " 14  info.toss.decision           1432 non-null   object \n",
      " 15  info.toss.winner             1432 non-null   object \n",
      " 16  info.umpires                 1410 non-null   object \n",
      " 17  info.venue                   1432 non-null   object \n",
      " 18  match_id                     1432 non-null   int64  \n",
      " 19  info.match_type_number       699 non-null    float64\n",
      " 20  info.outcome.by.runs         724 non-null    float64\n",
      " 21  info.outcome.method          51 non-null     object \n",
      " 22  info.outcome.result          46 non-null     object \n",
      " 23  info.outcome.eliminator      16 non-null     object \n",
      " 24  info.bowl_out                2 non-null      object \n",
      " 25  info.outcome.bowl_out        2 non-null      object \n",
      " 26  info.supersubs.New Zealand   1 non-null      object \n",
      " 27  info.supersubs.South Africa  1 non-null      object \n",
      "dtypes: float64(5), int64(3), object(20)\n",
      "memory usage: 324.4+ KB\n"
     ]
    }
   ],
   "source": [
    "final_df.info()"
   ]
  },
  {
   "cell_type": "code",
   "execution_count": 9,
   "id": "38ee0ca7",
   "metadata": {
    "execution": {
     "iopub.execute_input": "2023-04-10T14:38:06.582008Z",
     "iopub.status.busy": "2023-04-10T14:38:06.581361Z",
     "iopub.status.idle": "2023-04-10T14:38:06.589803Z",
     "shell.execute_reply": "2023-04-10T14:38:06.588934Z"
    },
    "papermill": {
     "duration": 0.114646,
     "end_time": "2023-04-10T14:38:06.592249",
     "exception": false,
     "start_time": "2023-04-10T14:38:06.477603",
     "status": "completed"
    },
    "tags": []
   },
   "outputs": [],
   "source": [
    "# drop unnecessary columns\n",
    "final_df.drop(columns=[\n",
    "    'meta.data_version',\n",
    "    'meta.created',\n",
    "    'meta.revision',\n",
    "    'info.neutral_venue',\n",
    "    'info.outcome.by.wickets',\n",
    "    'info.match_type_number',\n",
    "    'info.outcome.by.runs',\n",
    "    'info.outcome.method',\n",
    "    'info.outcome.result',\n",
    "    'info.outcome.eliminator',\n",
    "    'info.bowl_out',\n",
    "    'info.outcome.bowl_out',\n",
    "    'info.supersubs.New Zealand',\n",
    "    'info.supersubs.South Africa'\n",
    "],inplace=True)"
   ]
  },
  {
   "cell_type": "code",
   "execution_count": 10,
   "id": "31e181cc",
   "metadata": {
    "execution": {
     "iopub.execute_input": "2023-04-10T14:38:06.797771Z",
     "iopub.status.busy": "2023-04-10T14:38:06.796946Z",
     "iopub.status.idle": "2023-04-10T14:38:06.804554Z",
     "shell.execute_reply": "2023-04-10T14:38:06.803520Z"
    },
    "papermill": {
     "duration": 0.113795,
     "end_time": "2023-04-10T14:38:06.806854",
     "exception": false,
     "start_time": "2023-04-10T14:38:06.693059",
     "status": "completed"
    },
    "tags": []
   },
   "outputs": [
    {
     "data": {
      "text/plain": [
       "(1432, 14)"
      ]
     },
     "execution_count": 10,
     "metadata": {},
     "output_type": "execute_result"
    }
   ],
   "source": [
    "final_df.shape"
   ]
  },
  {
   "cell_type": "code",
   "execution_count": 11,
   "id": "f1eebcb5",
   "metadata": {
    "execution": {
     "iopub.execute_input": "2023-04-10T14:38:07.010745Z",
     "iopub.status.busy": "2023-04-10T14:38:07.010329Z",
     "iopub.status.idle": "2023-04-10T14:38:07.020411Z",
     "shell.execute_reply": "2023-04-10T14:38:07.019215Z"
    },
    "papermill": {
     "duration": 0.1157,
     "end_time": "2023-04-10T14:38:07.023097",
     "exception": false,
     "start_time": "2023-04-10T14:38:06.907397",
     "status": "completed"
    },
    "tags": []
   },
   "outputs": [
    {
     "data": {
      "text/plain": [
       "male      966\n",
       "female    466\n",
       "Name: info.gender, dtype: int64"
      ]
     },
     "execution_count": 11,
     "metadata": {},
     "output_type": "execute_result"
    }
   ],
   "source": [
    "final_df['info.gender'].value_counts()"
   ]
  },
  {
   "cell_type": "code",
   "execution_count": 12,
   "id": "38ae58f3",
   "metadata": {
    "execution": {
     "iopub.execute_input": "2023-04-10T14:38:07.227260Z",
     "iopub.status.busy": "2023-04-10T14:38:07.226214Z",
     "iopub.status.idle": "2023-04-10T14:38:07.236243Z",
     "shell.execute_reply": "2023-04-10T14:38:07.235008Z"
    },
    "papermill": {
     "duration": 0.114962,
     "end_time": "2023-04-10T14:38:07.238795",
     "exception": false,
     "start_time": "2023-04-10T14:38:07.123833",
     "status": "completed"
    },
    "tags": []
   },
   "outputs": [],
   "source": [
    "# Taking men's match record only\n",
    "final_df=final_df[final_df['info.gender']=='male']\n",
    "final_df.drop(columns='info.gender',inplace=True)"
   ]
  },
  {
   "cell_type": "code",
   "execution_count": 13,
   "id": "100ed3ab",
   "metadata": {
    "execution": {
     "iopub.execute_input": "2023-04-10T14:38:07.444086Z",
     "iopub.status.busy": "2023-04-10T14:38:07.442990Z",
     "iopub.status.idle": "2023-04-10T14:38:07.453735Z",
     "shell.execute_reply": "2023-04-10T14:38:07.452374Z"
    },
    "papermill": {
     "duration": 0.115212,
     "end_time": "2023-04-10T14:38:07.456150",
     "exception": false,
     "start_time": "2023-04-10T14:38:07.340938",
     "status": "completed"
    },
    "tags": []
   },
   "outputs": [
    {
     "data": {
      "text/plain": [
       "T20    966\n",
       "Name: info.match_type, dtype: int64"
      ]
     },
     "execution_count": 13,
     "metadata": {},
     "output_type": "execute_result"
    }
   ],
   "source": [
    "final_df['info.match_type'].value_counts()"
   ]
  },
  {
   "cell_type": "code",
   "execution_count": 14,
   "id": "8508e435",
   "metadata": {
    "execution": {
     "iopub.execute_input": "2023-04-10T14:38:07.662343Z",
     "iopub.status.busy": "2023-04-10T14:38:07.661079Z",
     "iopub.status.idle": "2023-04-10T14:38:07.670405Z",
     "shell.execute_reply": "2023-04-10T14:38:07.669194Z"
    },
    "papermill": {
     "duration": 0.115031,
     "end_time": "2023-04-10T14:38:07.672724",
     "exception": false,
     "start_time": "2023-04-10T14:38:07.557693",
     "status": "completed"
    },
    "tags": []
   },
   "outputs": [
    {
     "data": {
      "text/plain": [
       "20    963\n",
       "50      3\n",
       "Name: info.overs, dtype: int64"
      ]
     },
     "execution_count": 14,
     "metadata": {},
     "output_type": "execute_result"
    }
   ],
   "source": [
    "final_df['info.overs'].value_counts()"
   ]
  },
  {
   "cell_type": "code",
   "execution_count": 15,
   "id": "20afc683",
   "metadata": {
    "execution": {
     "iopub.execute_input": "2023-04-10T14:38:07.879260Z",
     "iopub.status.busy": "2023-04-10T14:38:07.878793Z",
     "iopub.status.idle": "2023-04-10T14:38:07.887419Z",
     "shell.execute_reply": "2023-04-10T14:38:07.886482Z"
    },
    "papermill": {
     "duration": 0.115644,
     "end_time": "2023-04-10T14:38:07.889863",
     "exception": false,
     "start_time": "2023-04-10T14:38:07.774219",
     "status": "completed"
    },
    "tags": []
   },
   "outputs": [],
   "source": [
    "# Drop match having over>20\n",
    "final_df=final_df[final_df['info.overs']==20]\n",
    "final_df.drop(columns=['info.overs','info.match_type'],inplace=True)"
   ]
  },
  {
   "cell_type": "code",
   "execution_count": 16,
   "id": "43157fae",
   "metadata": {
    "execution": {
     "iopub.execute_input": "2023-04-10T14:38:08.097179Z",
     "iopub.status.busy": "2023-04-10T14:38:08.096493Z",
     "iopub.status.idle": "2023-04-10T14:38:10.171633Z",
     "shell.execute_reply": "2023-04-10T14:38:10.170430Z"
    },
    "papermill": {
     "duration": 2.181765,
     "end_time": "2023-04-10T14:38:10.174422",
     "exception": false,
     "start_time": "2023-04-10T14:38:07.992657",
     "status": "completed"
    },
    "tags": []
   },
   "outputs": [],
   "source": [
    "import pickle\n",
    "pickle.dump(final_df,open('(after_convert)dataset_level11.pkl','wb'))"
   ]
  },
  {
   "cell_type": "markdown",
   "id": "7b059f16",
   "metadata": {
    "papermill": {
     "duration": 0.100334,
     "end_time": "2023-04-10T14:38:10.375560",
     "exception": false,
     "start_time": "2023-04-10T14:38:10.275226",
     "status": "completed"
    },
    "tags": []
   },
   "source": [
    "Instead of converting yaml file into panda's dataframe everytime, make the dataset which we already\n",
    "conveted, to save the time"
   ]
  },
  {
   "cell_type": "markdown",
   "id": "f450769c",
   "metadata": {
    "papermill": {
     "duration": 0.102603,
     "end_time": "2023-04-10T14:38:10.579681",
     "exception": false,
     "start_time": "2023-04-10T14:38:10.477078",
     "status": "completed"
    },
    "tags": []
   },
   "source": [
    "## Working on the pickel file directly"
   ]
  },
  {
   "cell_type": "code",
   "execution_count": 17,
   "id": "317eb075",
   "metadata": {
    "execution": {
     "iopub.execute_input": "2023-04-10T14:38:10.785236Z",
     "iopub.status.busy": "2023-04-10T14:38:10.784545Z",
     "iopub.status.idle": "2023-04-10T14:38:12.219897Z",
     "shell.execute_reply": "2023-04-10T14:38:12.218879Z"
    },
    "papermill": {
     "duration": 1.541734,
     "end_time": "2023-04-10T14:38:12.222538",
     "exception": false,
     "start_time": "2023-04-10T14:38:10.680804",
     "status": "completed"
    },
    "tags": []
   },
   "outputs": [],
   "source": [
    "matches=pickle.load(open('(after_convert)dataset_level11.pkl','rb'))"
   ]
  },
  {
   "cell_type": "code",
   "execution_count": 18,
   "id": "3cc8a79c",
   "metadata": {
    "execution": {
     "iopub.execute_input": "2023-04-10T14:38:12.429184Z",
     "iopub.status.busy": "2023-04-10T14:38:12.428700Z",
     "iopub.status.idle": "2023-04-10T14:38:12.433634Z",
     "shell.execute_reply": "2023-04-10T14:38:12.432469Z"
    },
    "papermill": {
     "duration": 0.111402,
     "end_time": "2023-04-10T14:38:12.436105",
     "exception": false,
     "start_time": "2023-04-10T14:38:12.324703",
     "status": "completed"
    },
    "tags": []
   },
   "outputs": [],
   "source": [
    "#matches.iloc[0]['innings']"
   ]
  },
  {
   "cell_type": "code",
   "execution_count": 19,
   "id": "c9b18376",
   "metadata": {
    "execution": {
     "iopub.execute_input": "2023-04-10T14:38:12.643637Z",
     "iopub.status.busy": "2023-04-10T14:38:12.643196Z",
     "iopub.status.idle": "2023-04-10T14:38:12.654416Z",
     "shell.execute_reply": "2023-04-10T14:38:12.653157Z"
    },
    "papermill": {
     "duration": 0.119068,
     "end_time": "2023-04-10T14:38:12.657143",
     "exception": false,
     "start_time": "2023-04-10T14:38:12.538075",
     "status": "completed"
    },
    "tags": []
   },
   "outputs": [
    {
     "data": {
      "text/plain": [
       "innings                 [{'1st innings': {'team': 'Zimbabwe', 'deliver...\n",
       "info.city                                                        Trinidad\n",
       "info.dates                                                   [2010-02-28]\n",
       "info.outcome.winner                                              Zimbabwe\n",
       "info.player_of_match                                          [AG Cremer]\n",
       "info.teams                                        [West Indies, Zimbabwe]\n",
       "info.toss.decision                                                    bat\n",
       "info.toss.winner                                                 Zimbabwe\n",
       "info.umpires                                      [CR Duncan, NA Malcolm]\n",
       "info.venue                               Queen's Park Oval, Port of Spain\n",
       "match_id                                                              107\n",
       "Name: 0, dtype: object"
      ]
     },
     "execution_count": 19,
     "metadata": {},
     "output_type": "execute_result"
    }
   ],
   "source": [
    "matches.iloc[75]"
   ]
  },
  {
   "cell_type": "markdown",
   "id": "e3d407da",
   "metadata": {
    "papermill": {
     "duration": 0.102029,
     "end_time": "2023-04-10T14:38:12.922229",
     "exception": false,
     "start_time": "2023-04-10T14:38:12.820200",
     "status": "completed"
    },
    "tags": []
   },
   "source": [
    "## Converting the dataset into the required format"
   ]
  },
  {
   "cell_type": "code",
   "execution_count": 20,
   "id": "b1bd2656",
   "metadata": {
    "execution": {
     "iopub.execute_input": "2023-04-10T14:38:13.128632Z",
     "iopub.status.busy": "2023-04-10T14:38:13.128158Z",
     "iopub.status.idle": "2023-04-10T14:38:29.934580Z",
     "shell.execute_reply": "2023-04-10T14:38:29.933368Z"
    },
    "papermill": {
     "duration": 16.912574,
     "end_time": "2023-04-10T14:38:29.937563",
     "exception": false,
     "start_time": "2023-04-10T14:38:13.024989",
     "status": "completed"
    },
    "tags": []
   },
   "outputs": [],
   "source": [
    "count = 1\n",
    "delivery_df = pd.DataFrame()\n",
    "for index, row in matches.iterrows():\n",
    "    count+=1\n",
    "    ball_of_match = []\n",
    "    batsman = []\n",
    "    bowler = []\n",
    "    runs = []\n",
    "    player_of_dismissed = []\n",
    "    teams = []\n",
    "    batting_team = []\n",
    "    match_id = []\n",
    "    city = []\n",
    "    venue = []\n",
    "    for ball in row['innings'][0]['1st innings']['deliveries']:\n",
    "        for key in ball.keys():\n",
    "            match_id.append(count)\n",
    "            batting_team.append(row['innings'][0]['1st innings']['team'])\n",
    "            teams.append(row['info.teams'])\n",
    "            ball_of_match.append(key)\n",
    "            batsman.append(ball[key]['batsman'])\n",
    "            bowler.append(ball[key]['bowler'])\n",
    "            runs.append(ball[key]['runs']['total'])\n",
    "            city.append(row['info.city'])\n",
    "            venue.append(row['info.venue'])\n",
    "            try:\n",
    "                player_of_dismissed.append(ball[key]['wicket']['player_out'])\n",
    "            except:\n",
    "                player_of_dismissed.append('0')\n",
    "    loop_df = pd.DataFrame({\n",
    "            'match_id':match_id,\n",
    "            'teams':teams,\n",
    "            'batting_team':batting_team,\n",
    "            'ball':ball_of_match,\n",
    "            'batsman':batsman,\n",
    "            'bowler':bowler,\n",
    "            'runs':runs,\n",
    "            'player_dismissed':player_of_dismissed,\n",
    "            'city':city,\n",
    "            'venue':venue\n",
    "        })\n",
    "    delivery_df = delivery_df.append(loop_df)"
   ]
  },
  {
   "cell_type": "code",
   "execution_count": 21,
   "id": "a7e4f087",
   "metadata": {
    "execution": {
     "iopub.execute_input": "2023-04-10T14:38:30.148871Z",
     "iopub.status.busy": "2023-04-10T14:38:30.148445Z",
     "iopub.status.idle": "2023-04-10T14:38:30.158289Z",
     "shell.execute_reply": "2023-04-10T14:38:30.156984Z"
    },
    "papermill": {
     "duration": 0.117433,
     "end_time": "2023-04-10T14:38:30.160959",
     "exception": false,
     "start_time": "2023-04-10T14:38:30.043526",
     "status": "completed"
    },
    "tags": []
   },
   "outputs": [
    {
     "data": {
      "text/plain": [
       "match_id                                               2\n",
       "teams                            [Netherlands, Scotland]\n",
       "batting_team                                    Scotland\n",
       "ball                                                12.3\n",
       "batsman                                       KJ Coetzer\n",
       "bowler                                         PW Borren\n",
       "runs                                                   1\n",
       "player_dismissed                                       0\n",
       "city                                             Belfast\n",
       "venue               Civil Service Cricket Club, Stormont\n",
       "Name: 75, dtype: object"
      ]
     },
     "execution_count": 21,
     "metadata": {},
     "output_type": "execute_result"
    }
   ],
   "source": [
    "delivery_df.iloc[75]"
   ]
  },
  {
   "cell_type": "code",
   "execution_count": 22,
   "id": "611cf1b8",
   "metadata": {
    "execution": {
     "iopub.execute_input": "2023-04-10T14:38:30.375808Z",
     "iopub.status.busy": "2023-04-10T14:38:30.375393Z",
     "iopub.status.idle": "2023-04-10T14:38:30.381565Z",
     "shell.execute_reply": "2023-04-10T14:38:30.380194Z"
    },
    "papermill": {
     "duration": 0.1183,
     "end_time": "2023-04-10T14:38:30.384745",
     "exception": false,
     "start_time": "2023-04-10T14:38:30.266445",
     "status": "completed"
    },
    "tags": []
   },
   "outputs": [],
   "source": [
    "# Extractring the bowling team\n",
    "def bowl(row):\n",
    "    for team in row['teams']:\n",
    "        if team != row['batting_team']:\n",
    "            return team"
   ]
  },
  {
   "cell_type": "code",
   "execution_count": 23,
   "id": "9845e655",
   "metadata": {
    "execution": {
     "iopub.execute_input": "2023-04-10T14:38:30.594831Z",
     "iopub.status.busy": "2023-04-10T14:38:30.593935Z",
     "iopub.status.idle": "2023-04-10T14:38:32.718269Z",
     "shell.execute_reply": "2023-04-10T14:38:32.716977Z"
    },
    "papermill": {
     "duration": 2.233447,
     "end_time": "2023-04-10T14:38:32.721084",
     "exception": false,
     "start_time": "2023-04-10T14:38:30.487637",
     "status": "completed"
    },
    "tags": []
   },
   "outputs": [],
   "source": [
    "delivery_df['bowling_team'] = delivery_df.apply(bowl,axis=1)"
   ]
  },
  {
   "cell_type": "code",
   "execution_count": 24,
   "id": "d418a881",
   "metadata": {
    "execution": {
     "iopub.execute_input": "2023-04-10T14:38:32.937386Z",
     "iopub.status.busy": "2023-04-10T14:38:32.936875Z",
     "iopub.status.idle": "2023-04-10T14:38:33.018003Z",
     "shell.execute_reply": "2023-04-10T14:38:33.016367Z"
    },
    "papermill": {
     "duration": 0.1926,
     "end_time": "2023-04-10T14:38:33.021295",
     "exception": false,
     "start_time": "2023-04-10T14:38:32.828695",
     "status": "completed"
    },
    "tags": []
   },
   "outputs": [],
   "source": [
    "# Once we get bowling_team column, don't need of team column\n",
    "delivery_df.drop(columns=['teams'],inplace=True)"
   ]
  },
  {
   "cell_type": "code",
   "execution_count": 25,
   "id": "96203a5d",
   "metadata": {
    "execution": {
     "iopub.execute_input": "2023-04-10T14:38:33.233678Z",
     "iopub.status.busy": "2023-04-10T14:38:33.233260Z",
     "iopub.status.idle": "2023-04-10T14:38:33.252669Z",
     "shell.execute_reply": "2023-04-10T14:38:33.251213Z"
    },
    "papermill": {
     "duration": 0.128004,
     "end_time": "2023-04-10T14:38:33.255433",
     "exception": false,
     "start_time": "2023-04-10T14:38:33.127429",
     "status": "completed"
    },
    "tags": []
   },
   "outputs": [
    {
     "data": {
      "text/plain": [
       "Pakistan                    10339\n",
       "South Africa                 8557\n",
       "India                        8382\n",
       "New Zealand                  8357\n",
       "Sri Lanka                    8057\n",
       "West Indies                  7243\n",
       "Australia                    6984\n",
       "England                      6967\n",
       "Afghanistan                  5206\n",
       "Bangladesh                   4881\n",
       "Ireland                      4661\n",
       "Zimbabwe                     4361\n",
       "Netherlands                  4011\n",
       "United Arab Emirates         3069\n",
       "Hong Kong                    2220\n",
       "Scotland                     2214\n",
       "Kenya                        1819\n",
       "Oman                         1743\n",
       "Malaysia                     1618\n",
       "Nepal                        1588\n",
       "Papua New Guinea             1362\n",
       "Singapore                    1360\n",
       "Canada                       1231\n",
       "Namibia                       989\n",
       "Jersey                        983\n",
       "Thailand                      751\n",
       "Nigeria                       739\n",
       "Bermuda                       703\n",
       "Cayman Islands                619\n",
       "Vanuatu                       578\n",
       "Denmark                       471\n",
       "Gibraltar                     382\n",
       "Germany                       374\n",
       "Belgium                       371\n",
       "Maldives                      367\n",
       "Kuwait                        366\n",
       "United States of America      345\n",
       "Guernsey                      248\n",
       "Ghana                         245\n",
       "Bulgaria                      222\n",
       "Norway                        220\n",
       "Botswana                      198\n",
       "Spain                         134\n",
       "Qatar                         132\n",
       "Iran                          131\n",
       "Isle of Man                   125\n",
       "Bhutan                        125\n",
       "Portugal                      124\n",
       "Uganda                        124\n",
       "Italy                         119\n",
       "Romania                       101\n",
       "Philippines                    31\n",
       "Name: batting_team, dtype: int64"
      ]
     },
     "execution_count": 25,
     "metadata": {},
     "output_type": "execute_result"
    }
   ],
   "source": [
    "delivery_df['batting_team'].value_counts()"
   ]
  },
  {
   "cell_type": "code",
   "execution_count": 26,
   "id": "d0753caf",
   "metadata": {
    "execution": {
     "iopub.execute_input": "2023-04-10T14:38:33.465569Z",
     "iopub.status.busy": "2023-04-10T14:38:33.465142Z",
     "iopub.status.idle": "2023-04-10T14:38:33.471233Z",
     "shell.execute_reply": "2023-04-10T14:38:33.469904Z"
    },
    "papermill": {
     "duration": 0.114213,
     "end_time": "2023-04-10T14:38:33.473796",
     "exception": false,
     "start_time": "2023-04-10T14:38:33.359583",
     "status": "completed"
    },
    "tags": []
   },
   "outputs": [],
   "source": [
    "# considering the top 10 teams \n",
    "teams = [\n",
    "    'Australia',\n",
    "    'India',\n",
    "    'Bangladesh',\n",
    "    'New Zealand',\n",
    "    'South Africa',\n",
    "    'England',\n",
    "    'West Indies',\n",
    "    'Afghanistan',\n",
    "    'Pakistan',\n",
    "    'Sri Lanka'    \n",
    "]"
   ]
  },
  {
   "cell_type": "code",
   "execution_count": 27,
   "id": "f913ae6d",
   "metadata": {
    "execution": {
     "iopub.execute_input": "2023-04-10T14:38:33.683185Z",
     "iopub.status.busy": "2023-04-10T14:38:33.682013Z",
     "iopub.status.idle": "2023-04-10T14:38:33.742336Z",
     "shell.execute_reply": "2023-04-10T14:38:33.740874Z"
    },
    "papermill": {
     "duration": 0.168533,
     "end_time": "2023-04-10T14:38:33.745401",
     "exception": false,
     "start_time": "2023-04-10T14:38:33.576868",
     "status": "completed"
    },
    "tags": []
   },
   "outputs": [],
   "source": [
    "delivery_df = delivery_df[delivery_df['batting_team'].isin(teams)]\n",
    "delivery_df = delivery_df[delivery_df['bowling_team'].isin(teams)]"
   ]
  },
  {
   "cell_type": "code",
   "execution_count": 28,
   "id": "1e8163a8",
   "metadata": {
    "execution": {
     "iopub.execute_input": "2023-04-10T14:38:33.960357Z",
     "iopub.status.busy": "2023-04-10T14:38:33.959884Z",
     "iopub.status.idle": "2023-04-10T14:38:33.965134Z",
     "shell.execute_reply": "2023-04-10T14:38:33.963875Z"
    },
    "papermill": {
     "duration": 0.115452,
     "end_time": "2023-04-10T14:38:33.967828",
     "exception": false,
     "start_time": "2023-04-10T14:38:33.852376",
     "status": "completed"
    },
    "tags": []
   },
   "outputs": [],
   "source": [
    "#delivery_df"
   ]
  },
  {
   "cell_type": "code",
   "execution_count": 29,
   "id": "5d689ef7",
   "metadata": {
    "execution": {
     "iopub.execute_input": "2023-04-10T14:38:34.181298Z",
     "iopub.status.busy": "2023-04-10T14:38:34.180836Z",
     "iopub.status.idle": "2023-04-10T14:38:34.191921Z",
     "shell.execute_reply": "2023-04-10T14:38:34.190834Z"
    },
    "papermill": {
     "duration": 0.121745,
     "end_time": "2023-04-10T14:38:34.194478",
     "exception": false,
     "start_time": "2023-04-10T14:38:34.072733",
     "status": "completed"
    },
    "tags": []
   },
   "outputs": [],
   "source": [
    "# Consider only required columns\n",
    "output = delivery_df[['match_id','batting_team','bowling_team','ball','runs','player_dismissed','city','venue']]"
   ]
  },
  {
   "cell_type": "code",
   "execution_count": 30,
   "id": "36bea93e",
   "metadata": {
    "execution": {
     "iopub.execute_input": "2023-04-10T14:38:34.406755Z",
     "iopub.status.busy": "2023-04-10T14:38:34.406294Z",
     "iopub.status.idle": "2023-04-10T14:38:34.411185Z",
     "shell.execute_reply": "2023-04-10T14:38:34.409857Z"
    },
    "papermill": {
     "duration": 0.11418,
     "end_time": "2023-04-10T14:38:34.413616",
     "exception": false,
     "start_time": "2023-04-10T14:38:34.299436",
     "status": "completed"
    },
    "tags": []
   },
   "outputs": [],
   "source": [
    "#output"
   ]
  },
  {
   "cell_type": "code",
   "execution_count": 31,
   "id": "21fe072b",
   "metadata": {
    "execution": {
     "iopub.execute_input": "2023-04-10T14:38:34.622680Z",
     "iopub.status.busy": "2023-04-10T14:38:34.622236Z",
     "iopub.status.idle": "2023-04-10T14:38:34.649180Z",
     "shell.execute_reply": "2023-04-10T14:38:34.647965Z"
    },
    "papermill": {
     "duration": 0.134145,
     "end_time": "2023-04-10T14:38:34.651808",
     "exception": false,
     "start_time": "2023-04-10T14:38:34.517663",
     "status": "completed"
    },
    "tags": []
   },
   "outputs": [
    {
     "data": {
      "text/plain": [
       "match_id               0\n",
       "batting_team           0\n",
       "bowling_team           0\n",
       "ball                   0\n",
       "runs                   0\n",
       "player_dismissed       0\n",
       "city                8671\n",
       "venue                  0\n",
       "dtype: int64"
      ]
     },
     "execution_count": 31,
     "metadata": {},
     "output_type": "execute_result"
    }
   ],
   "source": [
    "output.isnull().sum()"
   ]
  },
  {
   "cell_type": "code",
   "execution_count": 32,
   "id": "d46feed5",
   "metadata": {
    "execution": {
     "iopub.execute_input": "2023-04-10T14:38:34.922382Z",
     "iopub.status.busy": "2023-04-10T14:38:34.921885Z",
     "iopub.status.idle": "2023-04-10T14:38:34.939510Z",
     "shell.execute_reply": "2023-04-10T14:38:34.937810Z"
    },
    "papermill": {
     "duration": 0.129254,
     "end_time": "2023-04-10T14:38:34.942463",
     "exception": false,
     "start_time": "2023-04-10T14:38:34.813209",
     "status": "completed"
    },
    "tags": []
   },
   "outputs": [
    {
     "data": {
      "text/plain": [
       "Dubai International Cricket Stadium        3092\n",
       "Pallekele International Cricket Stadium    2066\n",
       "Melbourne Cricket Ground                   1453\n",
       "Sydney Cricket Ground                       749\n",
       "Adelaide Oval                               498\n",
       "Harare Sports Club                          372\n",
       "Sharjah Cricket Stadium                     249\n",
       "Sylhet International Cricket Stadium        128\n",
       "Carrara Oval                                 64\n",
       "Name: venue, dtype: int64"
      ]
     },
     "execution_count": 32,
     "metadata": {},
     "output_type": "execute_result"
    }
   ],
   "source": [
    "output[output['city'].isnull()]['venue'].value_counts()"
   ]
  },
  {
   "cell_type": "code",
   "execution_count": 33,
   "id": "80294428",
   "metadata": {
    "execution": {
     "iopub.execute_input": "2023-04-10T14:38:35.154145Z",
     "iopub.status.busy": "2023-04-10T14:38:35.153681Z",
     "iopub.status.idle": "2023-04-10T14:38:35.973380Z",
     "shell.execute_reply": "2023-04-10T14:38:35.972191Z"
    },
    "papermill": {
     "duration": 0.928979,
     "end_time": "2023-04-10T14:38:35.975927",
     "exception": false,
     "start_time": "2023-04-10T14:38:35.046948",
     "status": "completed"
    },
    "tags": []
   },
   "outputs": [
    {
     "name": "stderr",
     "output_type": "stream",
     "text": [
      "/opt/conda/lib/python3.7/site-packages/ipykernel_launcher.py:4: SettingWithCopyWarning: \n",
      "A value is trying to be set on a copy of a slice from a DataFrame.\n",
      "Try using .loc[row_indexer,col_indexer] = value instead\n",
      "\n",
      "See the caveats in the documentation: https://pandas.pydata.org/pandas-docs/stable/user_guide/indexing.html#returning-a-view-versus-a-copy\n",
      "  after removing the cwd from sys.path.\n"
     ]
    }
   ],
   "source": [
    "# to replace the null values in the city we take the venue and take first word from it \n",
    "# which mostly represent name of the city\n",
    "output['city']=np.where(output['city'].isnull(),\n",
    "                        output['venue'].str.split().apply(lambda x:x[0]),output['city'])"
   ]
  },
  {
   "cell_type": "code",
   "execution_count": 34,
   "id": "81d315c1",
   "metadata": {
    "execution": {
     "iopub.execute_input": "2023-04-10T14:38:36.184046Z",
     "iopub.status.busy": "2023-04-10T14:38:36.183638Z",
     "iopub.status.idle": "2023-04-10T14:38:36.209872Z",
     "shell.execute_reply": "2023-04-10T14:38:36.208738Z"
    },
    "papermill": {
     "duration": 0.132472,
     "end_time": "2023-04-10T14:38:36.212210",
     "exception": false,
     "start_time": "2023-04-10T14:38:36.079738",
     "status": "completed"
    },
    "tags": []
   },
   "outputs": [
    {
     "data": {
      "text/plain": [
       "match_id            0\n",
       "batting_team        0\n",
       "bowling_team        0\n",
       "ball                0\n",
       "runs                0\n",
       "player_dismissed    0\n",
       "city                0\n",
       "venue               0\n",
       "dtype: int64"
      ]
     },
     "execution_count": 34,
     "metadata": {},
     "output_type": "execute_result"
    }
   ],
   "source": [
    "output.isnull().sum()"
   ]
  },
  {
   "cell_type": "code",
   "execution_count": 35,
   "id": "384cf5d3",
   "metadata": {
    "execution": {
     "iopub.execute_input": "2023-04-10T14:38:36.421792Z",
     "iopub.status.busy": "2023-04-10T14:38:36.421380Z",
     "iopub.status.idle": "2023-04-10T14:38:36.436315Z",
     "shell.execute_reply": "2023-04-10T14:38:36.435142Z"
    },
    "papermill": {
     "duration": 0.123742,
     "end_time": "2023-04-10T14:38:36.439016",
     "exception": false,
     "start_time": "2023-04-10T14:38:36.315274",
     "status": "completed"
    },
    "tags": []
   },
   "outputs": [
    {
     "name": "stderr",
     "output_type": "stream",
     "text": [
      "/opt/conda/lib/python3.7/site-packages/pandas/core/frame.py:4913: SettingWithCopyWarning: \n",
      "A value is trying to be set on a copy of a slice from a DataFrame\n",
      "\n",
      "See the caveats in the documentation: https://pandas.pydata.org/pandas-docs/stable/user_guide/indexing.html#returning-a-view-versus-a-copy\n",
      "  errors=errors,\n"
     ]
    }
   ],
   "source": [
    "output.drop(columns=\"venue\",inplace=True)"
   ]
  },
  {
   "cell_type": "code",
   "execution_count": 36,
   "id": "5e85c927",
   "metadata": {
    "execution": {
     "iopub.execute_input": "2023-04-10T14:38:36.645871Z",
     "iopub.status.busy": "2023-04-10T14:38:36.645456Z",
     "iopub.status.idle": "2023-04-10T14:38:36.660474Z",
     "shell.execute_reply": "2023-04-10T14:38:36.659310Z"
    },
    "papermill": {
     "duration": 0.121749,
     "end_time": "2023-04-10T14:38:36.663278",
     "exception": false,
     "start_time": "2023-04-10T14:38:36.541529",
     "status": "completed"
    },
    "tags": []
   },
   "outputs": [
    {
     "data": {
      "text/plain": [
       "Colombo          4208\n",
       "Mirpur           3420\n",
       "Johannesburg     3331\n",
       "Dubai            3092\n",
       "Auckland         2655\n",
       "                 ... \n",
       "Victoria          123\n",
       "Dharamsala        122\n",
       "Potchefstroom     122\n",
       "Ahmedabad         121\n",
       "Carrara            64\n",
       "Name: city, Length: 87, dtype: int64"
      ]
     },
     "execution_count": 36,
     "metadata": {},
     "output_type": "execute_result"
    }
   ],
   "source": [
    "output['city'].value_counts()"
   ]
  },
  {
   "cell_type": "code",
   "execution_count": 37,
   "id": "7e7ea378",
   "metadata": {
    "execution": {
     "iopub.execute_input": "2023-04-10T14:38:36.873801Z",
     "iopub.status.busy": "2023-04-10T14:38:36.872926Z",
     "iopub.status.idle": "2023-04-10T14:38:36.889854Z",
     "shell.execute_reply": "2023-04-10T14:38:36.889003Z"
    },
    "papermill": {
     "duration": 0.124206,
     "end_time": "2023-04-10T14:38:36.892309",
     "exception": false,
     "start_time": "2023-04-10T14:38:36.768103",
     "status": "completed"
    },
    "tags": []
   },
   "outputs": [],
   "source": [
    "# we are consedering the city where more than 3 matches were played.\n",
    "eligible_city=output['city'].value_counts()[output['city'].value_counts()>600].index.tolist()"
   ]
  },
  {
   "cell_type": "code",
   "execution_count": 38,
   "id": "2e9e08b1",
   "metadata": {
    "execution": {
     "iopub.execute_input": "2023-04-10T14:38:37.098679Z",
     "iopub.status.busy": "2023-04-10T14:38:37.098283Z",
     "iopub.status.idle": "2023-04-10T14:38:37.113606Z",
     "shell.execute_reply": "2023-04-10T14:38:37.112598Z"
    },
    "papermill": {
     "duration": 0.121683,
     "end_time": "2023-04-10T14:38:37.116178",
     "exception": false,
     "start_time": "2023-04-10T14:38:36.994495",
     "status": "completed"
    },
    "tags": []
   },
   "outputs": [],
   "source": [
    "output=output[output['city'].isin(eligible_city)]"
   ]
  },
  {
   "cell_type": "code",
   "execution_count": 39,
   "id": "1961572c",
   "metadata": {
    "execution": {
     "iopub.execute_input": "2023-04-10T14:38:37.324033Z",
     "iopub.status.busy": "2023-04-10T14:38:37.323196Z",
     "iopub.status.idle": "2023-04-10T14:38:37.342378Z",
     "shell.execute_reply": "2023-04-10T14:38:37.340829Z"
    },
    "papermill": {
     "duration": 0.126291,
     "end_time": "2023-04-10T14:38:37.345495",
     "exception": false,
     "start_time": "2023-04-10T14:38:37.219204",
     "status": "completed"
    },
    "tags": []
   },
   "outputs": [],
   "source": [
    "# calculating the current score \n",
    "output['current_score']=output.groupby('match_id').cumsum()['runs']"
   ]
  },
  {
   "cell_type": "markdown",
   "id": "5bbcf711",
   "metadata": {
    "papermill": {
     "duration": 0.102427,
     "end_time": "2023-04-10T14:38:37.552735",
     "exception": false,
     "start_time": "2023-04-10T14:38:37.450308",
     "status": "completed"
    },
    "tags": []
   },
   "source": [
    " Creating the ball left column"
   ]
  },
  {
   "cell_type": "code",
   "execution_count": 40,
   "id": "c5d27b5e",
   "metadata": {
    "execution": {
     "iopub.execute_input": "2023-04-10T14:38:37.762820Z",
     "iopub.status.busy": "2023-04-10T14:38:37.761751Z",
     "iopub.status.idle": "2023-04-10T14:38:37.855718Z",
     "shell.execute_reply": "2023-04-10T14:38:37.854721Z"
    },
    "papermill": {
     "duration": 0.202168,
     "end_time": "2023-04-10T14:38:37.858186",
     "exception": false,
     "start_time": "2023-04-10T14:38:37.656018",
     "status": "completed"
    },
    "tags": []
   },
   "outputs": [],
   "source": [
    "output['over']=output['ball'].apply(lambda x:str(x).split('.')[0])\n",
    "output['balls']=output['ball'].apply(lambda x:str(x).split('.')[1])"
   ]
  },
  {
   "cell_type": "code",
   "execution_count": 41,
   "id": "8ad117f6",
   "metadata": {
    "execution": {
     "iopub.execute_input": "2023-04-10T14:38:38.067537Z",
     "iopub.status.busy": "2023-04-10T14:38:38.066613Z",
     "iopub.status.idle": "2023-04-10T14:38:38.084664Z",
     "shell.execute_reply": "2023-04-10T14:38:38.083674Z"
    },
    "papermill": {
     "duration": 0.12523,
     "end_time": "2023-04-10T14:38:38.087309",
     "exception": false,
     "start_time": "2023-04-10T14:38:37.962079",
     "status": "completed"
    },
    "tags": []
   },
   "outputs": [],
   "source": [
    "output['ball_bowled']=output['over'].astype(int)*6+output['balls'].astype(int)"
   ]
  },
  {
   "cell_type": "code",
   "execution_count": 42,
   "id": "5c0ed59f",
   "metadata": {
    "execution": {
     "iopub.execute_input": "2023-04-10T14:38:38.296965Z",
     "iopub.status.busy": "2023-04-10T14:38:38.296137Z",
     "iopub.status.idle": "2023-04-10T14:38:38.325892Z",
     "shell.execute_reply": "2023-04-10T14:38:38.324656Z"
    },
    "papermill": {
     "duration": 0.1372,
     "end_time": "2023-04-10T14:38:38.328861",
     "exception": false,
     "start_time": "2023-04-10T14:38:38.191661",
     "status": "completed"
    },
    "tags": []
   },
   "outputs": [],
   "source": [
    "# actually there is one shortcut we use here we didn't count the extra \n",
    "# balls and therefore we get -ve number in ball left_column\n",
    "# to do it first count the extra and then we get proper result but \n",
    "# this method is also gives good result \n",
    "output['ball_left']=120-output['ball_bowled']\n",
    "output['ball_left']=output['ball_left'].apply(lambda x:0 if x<0 else x)"
   ]
  },
  {
   "cell_type": "code",
   "execution_count": 43,
   "id": "d52517f8",
   "metadata": {
    "execution": {
     "iopub.execute_input": "2023-04-10T14:38:38.567166Z",
     "iopub.status.busy": "2023-04-10T14:38:38.566664Z",
     "iopub.status.idle": "2023-04-10T14:38:38.588755Z",
     "shell.execute_reply": "2023-04-10T14:38:38.587499Z"
    },
    "papermill": {
     "duration": 0.143437,
     "end_time": "2023-04-10T14:38:38.591526",
     "exception": false,
     "start_time": "2023-04-10T14:38:38.448089",
     "status": "completed"
    },
    "tags": []
   },
   "outputs": [
    {
     "data": {
      "text/plain": [
       "array([120, 121, 122, 123])"
      ]
     },
     "execution_count": 43,
     "metadata": {},
     "output_type": "execute_result"
    }
   ],
   "source": [
    "output[output['ball_left']==0]['ball_bowled'].unique()"
   ]
  },
  {
   "cell_type": "markdown",
   "id": "73fb756c",
   "metadata": {
    "papermill": {
     "duration": 0.102759,
     "end_time": "2023-04-10T14:38:38.798097",
     "exception": false,
     "start_time": "2023-04-10T14:38:38.695338",
     "status": "completed"
    },
    "tags": []
   },
   "source": [
    "here we saw only 2 or 3 extra bowl in entire \n",
    "dataset but how it is possible because the formula \n",
    " which we used to calculate the ball_bowled\n",
    "these 2 or 3 extra ball are belonging to the last over only"
   ]
  },
  {
   "cell_type": "markdown",
   "id": "faa1bb8c",
   "metadata": {
    "papermill": {
     "duration": 0.162904,
     "end_time": "2023-04-10T14:38:39.067140",
     "exception": false,
     "start_time": "2023-04-10T14:38:38.904236",
     "status": "completed"
    },
    "tags": []
   },
   "source": [
    "Creating the columns which cointains the wickets left"
   ]
  },
  {
   "cell_type": "code",
   "execution_count": 44,
   "id": "229dc41a",
   "metadata": {
    "execution": {
     "iopub.execute_input": "2023-04-10T14:38:39.275065Z",
     "iopub.status.busy": "2023-04-10T14:38:39.274633Z",
     "iopub.status.idle": "2023-04-10T14:38:39.307299Z",
     "shell.execute_reply": "2023-04-10T14:38:39.306238Z"
    },
    "papermill": {
     "duration": 0.139817,
     "end_time": "2023-04-10T14:38:39.310160",
     "exception": false,
     "start_time": "2023-04-10T14:38:39.170343",
     "status": "completed"
    },
    "tags": []
   },
   "outputs": [],
   "source": [
    "output['player_dismissed']=output['player_dismissed'].apply(lambda x:0 if x=='0' else 1)"
   ]
  },
  {
   "cell_type": "code",
   "execution_count": 45,
   "id": "fa416055",
   "metadata": {
    "execution": {
     "iopub.execute_input": "2023-04-10T14:38:39.524113Z",
     "iopub.status.busy": "2023-04-10T14:38:39.523344Z",
     "iopub.status.idle": "2023-04-10T14:38:39.542017Z",
     "shell.execute_reply": "2023-04-10T14:38:39.540680Z"
    },
    "papermill": {
     "duration": 0.126671,
     "end_time": "2023-04-10T14:38:39.545008",
     "exception": false,
     "start_time": "2023-04-10T14:38:39.418337",
     "status": "completed"
    },
    "tags": []
   },
   "outputs": [],
   "source": [
    "output['player_dismissed']=output.groupby('match_id').cumsum()['player_dismissed']"
   ]
  },
  {
   "cell_type": "code",
   "execution_count": 46,
   "id": "c810806f",
   "metadata": {
    "execution": {
     "iopub.execute_input": "2023-04-10T14:38:39.753624Z",
     "iopub.status.busy": "2023-04-10T14:38:39.752915Z",
     "iopub.status.idle": "2023-04-10T14:38:39.759038Z",
     "shell.execute_reply": "2023-04-10T14:38:39.758198Z"
    },
    "papermill": {
     "duration": 0.11312,
     "end_time": "2023-04-10T14:38:39.761946",
     "exception": false,
     "start_time": "2023-04-10T14:38:39.648826",
     "status": "completed"
    },
    "tags": []
   },
   "outputs": [],
   "source": [
    "output['wicket_left']=10-output['player_dismissed'].astype(int)"
   ]
  },
  {
   "cell_type": "code",
   "execution_count": 47,
   "id": "19e362b1",
   "metadata": {
    "execution": {
     "iopub.execute_input": "2023-04-10T14:38:39.972503Z",
     "iopub.status.busy": "2023-04-10T14:38:39.971626Z",
     "iopub.status.idle": "2023-04-10T14:38:39.991443Z",
     "shell.execute_reply": "2023-04-10T14:38:39.989949Z"
    },
    "papermill": {
     "duration": 0.128745,
     "end_time": "2023-04-10T14:38:39.994328",
     "exception": false,
     "start_time": "2023-04-10T14:38:39.865583",
     "status": "completed"
    },
    "tags": []
   },
   "outputs": [
    {
     "data": {
      "text/html": [
       "<div>\n",
       "<style scoped>\n",
       "    .dataframe tbody tr th:only-of-type {\n",
       "        vertical-align: middle;\n",
       "    }\n",
       "\n",
       "    .dataframe tbody tr th {\n",
       "        vertical-align: top;\n",
       "    }\n",
       "\n",
       "    .dataframe thead th {\n",
       "        text-align: right;\n",
       "    }\n",
       "</style>\n",
       "<table border=\"1\" class=\"dataframe\">\n",
       "  <thead>\n",
       "    <tr style=\"text-align: right;\">\n",
       "      <th></th>\n",
       "      <th>match_id</th>\n",
       "      <th>batting_team</th>\n",
       "      <th>bowling_team</th>\n",
       "      <th>ball</th>\n",
       "      <th>runs</th>\n",
       "      <th>player_dismissed</th>\n",
       "      <th>city</th>\n",
       "      <th>current_score</th>\n",
       "      <th>over</th>\n",
       "      <th>balls</th>\n",
       "      <th>ball_bowled</th>\n",
       "      <th>ball_left</th>\n",
       "      <th>wicket_left</th>\n",
       "    </tr>\n",
       "  </thead>\n",
       "  <tbody>\n",
       "    <tr>\n",
       "      <th>0</th>\n",
       "      <td>3</td>\n",
       "      <td>Sri Lanka</td>\n",
       "      <td>Pakistan</td>\n",
       "      <td>0.1</td>\n",
       "      <td>0</td>\n",
       "      <td>0</td>\n",
       "      <td>Abu Dhabi</td>\n",
       "      <td>0</td>\n",
       "      <td>0</td>\n",
       "      <td>1</td>\n",
       "      <td>1</td>\n",
       "      <td>119</td>\n",
       "      <td>10</td>\n",
       "    </tr>\n",
       "    <tr>\n",
       "      <th>1</th>\n",
       "      <td>3</td>\n",
       "      <td>Sri Lanka</td>\n",
       "      <td>Pakistan</td>\n",
       "      <td>0.2</td>\n",
       "      <td>0</td>\n",
       "      <td>0</td>\n",
       "      <td>Abu Dhabi</td>\n",
       "      <td>0</td>\n",
       "      <td>0</td>\n",
       "      <td>2</td>\n",
       "      <td>2</td>\n",
       "      <td>118</td>\n",
       "      <td>10</td>\n",
       "    </tr>\n",
       "    <tr>\n",
       "      <th>2</th>\n",
       "      <td>3</td>\n",
       "      <td>Sri Lanka</td>\n",
       "      <td>Pakistan</td>\n",
       "      <td>0.3</td>\n",
       "      <td>1</td>\n",
       "      <td>0</td>\n",
       "      <td>Abu Dhabi</td>\n",
       "      <td>1</td>\n",
       "      <td>0</td>\n",
       "      <td>3</td>\n",
       "      <td>3</td>\n",
       "      <td>117</td>\n",
       "      <td>10</td>\n",
       "    </tr>\n",
       "    <tr>\n",
       "      <th>3</th>\n",
       "      <td>3</td>\n",
       "      <td>Sri Lanka</td>\n",
       "      <td>Pakistan</td>\n",
       "      <td>0.4</td>\n",
       "      <td>0</td>\n",
       "      <td>0</td>\n",
       "      <td>Abu Dhabi</td>\n",
       "      <td>1</td>\n",
       "      <td>0</td>\n",
       "      <td>4</td>\n",
       "      <td>4</td>\n",
       "      <td>116</td>\n",
       "      <td>10</td>\n",
       "    </tr>\n",
       "    <tr>\n",
       "      <th>4</th>\n",
       "      <td>3</td>\n",
       "      <td>Sri Lanka</td>\n",
       "      <td>Pakistan</td>\n",
       "      <td>0.5</td>\n",
       "      <td>0</td>\n",
       "      <td>0</td>\n",
       "      <td>Abu Dhabi</td>\n",
       "      <td>1</td>\n",
       "      <td>0</td>\n",
       "      <td>5</td>\n",
       "      <td>5</td>\n",
       "      <td>115</td>\n",
       "      <td>10</td>\n",
       "    </tr>\n",
       "    <tr>\n",
       "      <th>5</th>\n",
       "      <td>3</td>\n",
       "      <td>Sri Lanka</td>\n",
       "      <td>Pakistan</td>\n",
       "      <td>0.6</td>\n",
       "      <td>0</td>\n",
       "      <td>0</td>\n",
       "      <td>Abu Dhabi</td>\n",
       "      <td>1</td>\n",
       "      <td>0</td>\n",
       "      <td>6</td>\n",
       "      <td>6</td>\n",
       "      <td>114</td>\n",
       "      <td>10</td>\n",
       "    </tr>\n",
       "    <tr>\n",
       "      <th>6</th>\n",
       "      <td>3</td>\n",
       "      <td>Sri Lanka</td>\n",
       "      <td>Pakistan</td>\n",
       "      <td>1.1</td>\n",
       "      <td>0</td>\n",
       "      <td>0</td>\n",
       "      <td>Abu Dhabi</td>\n",
       "      <td>1</td>\n",
       "      <td>1</td>\n",
       "      <td>1</td>\n",
       "      <td>7</td>\n",
       "      <td>113</td>\n",
       "      <td>10</td>\n",
       "    </tr>\n",
       "    <tr>\n",
       "      <th>7</th>\n",
       "      <td>3</td>\n",
       "      <td>Sri Lanka</td>\n",
       "      <td>Pakistan</td>\n",
       "      <td>1.2</td>\n",
       "      <td>4</td>\n",
       "      <td>0</td>\n",
       "      <td>Abu Dhabi</td>\n",
       "      <td>5</td>\n",
       "      <td>1</td>\n",
       "      <td>2</td>\n",
       "      <td>8</td>\n",
       "      <td>112</td>\n",
       "      <td>10</td>\n",
       "    </tr>\n",
       "    <tr>\n",
       "      <th>8</th>\n",
       "      <td>3</td>\n",
       "      <td>Sri Lanka</td>\n",
       "      <td>Pakistan</td>\n",
       "      <td>1.3</td>\n",
       "      <td>0</td>\n",
       "      <td>0</td>\n",
       "      <td>Abu Dhabi</td>\n",
       "      <td>5</td>\n",
       "      <td>1</td>\n",
       "      <td>3</td>\n",
       "      <td>9</td>\n",
       "      <td>111</td>\n",
       "      <td>10</td>\n",
       "    </tr>\n",
       "    <tr>\n",
       "      <th>9</th>\n",
       "      <td>3</td>\n",
       "      <td>Sri Lanka</td>\n",
       "      <td>Pakistan</td>\n",
       "      <td>1.4</td>\n",
       "      <td>0</td>\n",
       "      <td>0</td>\n",
       "      <td>Abu Dhabi</td>\n",
       "      <td>5</td>\n",
       "      <td>1</td>\n",
       "      <td>4</td>\n",
       "      <td>10</td>\n",
       "      <td>110</td>\n",
       "      <td>10</td>\n",
       "    </tr>\n",
       "  </tbody>\n",
       "</table>\n",
       "</div>"
      ],
      "text/plain": [
       "   match_id batting_team bowling_team  ball  runs  player_dismissed  \\\n",
       "0         3    Sri Lanka     Pakistan   0.1     0                 0   \n",
       "1         3    Sri Lanka     Pakistan   0.2     0                 0   \n",
       "2         3    Sri Lanka     Pakistan   0.3     1                 0   \n",
       "3         3    Sri Lanka     Pakistan   0.4     0                 0   \n",
       "4         3    Sri Lanka     Pakistan   0.5     0                 0   \n",
       "5         3    Sri Lanka     Pakistan   0.6     0                 0   \n",
       "6         3    Sri Lanka     Pakistan   1.1     0                 0   \n",
       "7         3    Sri Lanka     Pakistan   1.2     4                 0   \n",
       "8         3    Sri Lanka     Pakistan   1.3     0                 0   \n",
       "9         3    Sri Lanka     Pakistan   1.4     0                 0   \n",
       "\n",
       "        city  current_score over balls  ball_bowled  ball_left  wicket_left  \n",
       "0  Abu Dhabi              0    0     1            1        119           10  \n",
       "1  Abu Dhabi              0    0     2            2        118           10  \n",
       "2  Abu Dhabi              1    0     3            3        117           10  \n",
       "3  Abu Dhabi              1    0     4            4        116           10  \n",
       "4  Abu Dhabi              1    0     5            5        115           10  \n",
       "5  Abu Dhabi              1    0     6            6        114           10  \n",
       "6  Abu Dhabi              1    1     1            7        113           10  \n",
       "7  Abu Dhabi              5    1     2            8        112           10  \n",
       "8  Abu Dhabi              5    1     3            9        111           10  \n",
       "9  Abu Dhabi              5    1     4           10        110           10  "
      ]
     },
     "execution_count": 47,
     "metadata": {},
     "output_type": "execute_result"
    }
   ],
   "source": [
    "output.head(10)"
   ]
  },
  {
   "cell_type": "markdown",
   "id": "c457fdfa",
   "metadata": {
    "papermill": {
     "duration": 0.104241,
     "end_time": "2023-04-10T14:38:40.203882",
     "exception": false,
     "start_time": "2023-04-10T14:38:40.099641",
     "status": "completed"
    },
    "tags": []
   },
   "source": [
    "Creating the current run rate columns"
   ]
  },
  {
   "cell_type": "markdown",
   "id": "84cec9f2",
   "metadata": {
    "papermill": {
     "duration": 0.104401,
     "end_time": "2023-04-10T14:38:40.412267",
     "exception": false,
     "start_time": "2023-04-10T14:38:40.307866",
     "status": "completed"
    },
    "tags": []
   },
   "source": [
    "current run rate=total_score/over"
   ]
  },
  {
   "cell_type": "code",
   "execution_count": 48,
   "id": "aa36ef8d",
   "metadata": {
    "execution": {
     "iopub.execute_input": "2023-04-10T14:38:40.622817Z",
     "iopub.status.busy": "2023-04-10T14:38:40.622314Z",
     "iopub.status.idle": "2023-04-10T14:38:40.630780Z",
     "shell.execute_reply": "2023-04-10T14:38:40.629488Z"
    },
    "papermill": {
     "duration": 0.116643,
     "end_time": "2023-04-10T14:38:40.633495",
     "exception": false,
     "start_time": "2023-04-10T14:38:40.516852",
     "status": "completed"
    },
    "tags": []
   },
   "outputs": [],
   "source": [
    "output['crr']=round(output['current_score']*6/output['ball_bowled'],2)"
   ]
  },
  {
   "cell_type": "markdown",
   "id": "d859deef",
   "metadata": {
    "papermill": {
     "duration": 0.105526,
     "end_time": "2023-04-10T14:38:40.843376",
     "exception": false,
     "start_time": "2023-04-10T14:38:40.737850",
     "status": "completed"
    },
    "tags": []
   },
   "source": [
    "Creating the column for for last 5 over score"
   ]
  },
  {
   "cell_type": "code",
   "execution_count": 49,
   "id": "90c3b3c2",
   "metadata": {
    "execution": {
     "iopub.execute_input": "2023-04-10T14:38:41.055006Z",
     "iopub.status.busy": "2023-04-10T14:38:41.054089Z",
     "iopub.status.idle": "2023-04-10T14:38:41.675244Z",
     "shell.execute_reply": "2023-04-10T14:38:41.674113Z"
    },
    "papermill": {
     "duration": 0.729505,
     "end_time": "2023-04-10T14:38:41.677909",
     "exception": false,
     "start_time": "2023-04-10T14:38:40.948404",
     "status": "completed"
    },
    "tags": []
   },
   "outputs": [],
   "source": [
    "groups=output.groupby('match_id')\n",
    "\n",
    "match_ids=output['match_id'].unique()\n",
    "last_five=[]\n",
    "for id in match_ids:\n",
    "    #window=30 bacause we are calculating for 5 over\n",
    "    last_five.extend(groups.get_group(id).rolling(window=30).sum()['runs'])"
   ]
  },
  {
   "cell_type": "code",
   "execution_count": 50,
   "id": "d779003d",
   "metadata": {
    "execution": {
     "iopub.execute_input": "2023-04-10T14:38:41.888095Z",
     "iopub.status.busy": "2023-04-10T14:38:41.887254Z",
     "iopub.status.idle": "2023-04-10T14:38:41.901004Z",
     "shell.execute_reply": "2023-04-10T14:38:41.899409Z"
    },
    "papermill": {
     "duration": 0.122265,
     "end_time": "2023-04-10T14:38:41.904075",
     "exception": false,
     "start_time": "2023-04-10T14:38:41.781810",
     "status": "completed"
    },
    "tags": []
   },
   "outputs": [],
   "source": [
    "output['last_five']=last_five"
   ]
  },
  {
   "cell_type": "markdown",
   "id": "ebf371f8",
   "metadata": {
    "papermill": {
     "duration": 0.10462,
     "end_time": "2023-04-10T14:38:42.111991",
     "exception": false,
     "start_time": "2023-04-10T14:38:42.007371",
     "status": "completed"
    },
    "tags": []
   },
   "source": [
    "Calculating the total score"
   ]
  },
  {
   "cell_type": "code",
   "execution_count": 51,
   "id": "266b6a79",
   "metadata": {
    "execution": {
     "iopub.execute_input": "2023-04-10T14:38:42.325788Z",
     "iopub.status.busy": "2023-04-10T14:38:42.325369Z",
     "iopub.status.idle": "2023-04-10T14:38:42.395132Z",
     "shell.execute_reply": "2023-04-10T14:38:42.393901Z"
    },
    "papermill": {
     "duration": 0.180214,
     "end_time": "2023-04-10T14:38:42.397950",
     "exception": false,
     "start_time": "2023-04-10T14:38:42.217736",
     "status": "completed"
    },
    "tags": []
   },
   "outputs": [],
   "source": [
    "final_df=output.groupby('match_id').sum()['runs'].reset_index().merge(output,on='match_id')"
   ]
  },
  {
   "cell_type": "code",
   "execution_count": 52,
   "id": "ae7f1824",
   "metadata": {
    "execution": {
     "iopub.execute_input": "2023-04-10T14:38:42.663295Z",
     "iopub.status.busy": "2023-04-10T14:38:42.662852Z",
     "iopub.status.idle": "2023-04-10T14:38:42.667415Z",
     "shell.execute_reply": "2023-04-10T14:38:42.666212Z"
    },
    "papermill": {
     "duration": 0.16798,
     "end_time": "2023-04-10T14:38:42.669843",
     "exception": false,
     "start_time": "2023-04-10T14:38:42.501863",
     "status": "completed"
    },
    "tags": []
   },
   "outputs": [],
   "source": [
    "#final_df"
   ]
  },
  {
   "cell_type": "code",
   "execution_count": 53,
   "id": "d72c7743",
   "metadata": {
    "execution": {
     "iopub.execute_input": "2023-04-10T14:38:42.880430Z",
     "iopub.status.busy": "2023-04-10T14:38:42.879981Z",
     "iopub.status.idle": "2023-04-10T14:38:42.886373Z",
     "shell.execute_reply": "2023-04-10T14:38:42.884942Z"
    },
    "papermill": {
     "duration": 0.113619,
     "end_time": "2023-04-10T14:38:42.888770",
     "exception": false,
     "start_time": "2023-04-10T14:38:42.775151",
     "status": "completed"
    },
    "tags": []
   },
   "outputs": [],
   "source": [
    "final_df.rename(columns={'runs_x':'total_score','runs_y':'runs'},inplace=True)"
   ]
  },
  {
   "cell_type": "code",
   "execution_count": 54,
   "id": "863087e5",
   "metadata": {
    "execution": {
     "iopub.execute_input": "2023-04-10T14:38:43.098621Z",
     "iopub.status.busy": "2023-04-10T14:38:43.098171Z",
     "iopub.status.idle": "2023-04-10T14:38:43.117889Z",
     "shell.execute_reply": "2023-04-10T14:38:43.116786Z"
    },
    "papermill": {
     "duration": 0.127001,
     "end_time": "2023-04-10T14:38:43.120657",
     "exception": false,
     "start_time": "2023-04-10T14:38:42.993656",
     "status": "completed"
    },
    "tags": []
   },
   "outputs": [],
   "source": [
    "# Considering the required columns\n",
    "final_df=final_df[['batting_team','bowling_team','city','current_score',\n",
    "                   'ball_left','wicket_left','crr','last_five','total_score']]"
   ]
  },
  {
   "cell_type": "code",
   "execution_count": 55,
   "id": "b7cd31ac",
   "metadata": {
    "execution": {
     "iopub.execute_input": "2023-04-10T14:38:43.327977Z",
     "iopub.status.busy": "2023-04-10T14:38:43.327556Z",
     "iopub.status.idle": "2023-04-10T14:38:43.347096Z",
     "shell.execute_reply": "2023-04-10T14:38:43.345738Z"
    },
    "papermill": {
     "duration": 0.126251,
     "end_time": "2023-04-10T14:38:43.349565",
     "exception": false,
     "start_time": "2023-04-10T14:38:43.223314",
     "status": "completed"
    },
    "tags": []
   },
   "outputs": [
    {
     "data": {
      "text/plain": [
       "batting_team         0\n",
       "bowling_team         0\n",
       "city                 0\n",
       "current_score        0\n",
       "ball_left            0\n",
       "wicket_left          0\n",
       "crr                  0\n",
       "last_five        12169\n",
       "total_score          0\n",
       "dtype: int64"
      ]
     },
     "execution_count": 55,
     "metadata": {},
     "output_type": "execute_result"
    }
   ],
   "source": [
    "final_df.isnull().sum()"
   ]
  },
  {
   "cell_type": "code",
   "execution_count": 56,
   "id": "d60371a6",
   "metadata": {
    "execution": {
     "iopub.execute_input": "2023-04-10T14:38:43.561059Z",
     "iopub.status.busy": "2023-04-10T14:38:43.560655Z",
     "iopub.status.idle": "2023-04-10T14:38:43.567995Z",
     "shell.execute_reply": "2023-04-10T14:38:43.566801Z"
    },
    "papermill": {
     "duration": 0.115893,
     "end_time": "2023-04-10T14:38:43.570501",
     "exception": false,
     "start_time": "2023-04-10T14:38:43.454608",
     "status": "completed"
    },
    "tags": []
   },
   "outputs": [
    {
     "data": {
      "text/plain": [
       "(51109, 9)"
      ]
     },
     "execution_count": 56,
     "metadata": {},
     "output_type": "execute_result"
    }
   ],
   "source": [
    "final_df.shape"
   ]
  },
  {
   "cell_type": "code",
   "execution_count": 57,
   "id": "6f6919e2",
   "metadata": {
    "execution": {
     "iopub.execute_input": "2023-04-10T14:38:43.783462Z",
     "iopub.status.busy": "2023-04-10T14:38:43.782748Z",
     "iopub.status.idle": "2023-04-10T14:38:43.806323Z",
     "shell.execute_reply": "2023-04-10T14:38:43.805092Z"
    },
    "papermill": {
     "duration": 0.133171,
     "end_time": "2023-04-10T14:38:43.809083",
     "exception": false,
     "start_time": "2023-04-10T14:38:43.675912",
     "status": "completed"
    },
    "tags": []
   },
   "outputs": [
    {
     "data": {
      "text/plain": [
       "(38940, 9)"
      ]
     },
     "execution_count": 57,
     "metadata": {},
     "output_type": "execute_result"
    }
   ],
   "source": [
    "# droping the null values\n",
    "final_df.dropna(inplace=True)\n",
    "final_df.shape"
   ]
  },
  {
   "cell_type": "code",
   "execution_count": 58,
   "id": "43e05b5e",
   "metadata": {
    "execution": {
     "iopub.execute_input": "2023-04-10T14:38:44.021335Z",
     "iopub.status.busy": "2023-04-10T14:38:44.020865Z",
     "iopub.status.idle": "2023-04-10T14:38:44.037386Z",
     "shell.execute_reply": "2023-04-10T14:38:44.035944Z"
    },
    "papermill": {
     "duration": 0.125513,
     "end_time": "2023-04-10T14:38:44.040548",
     "exception": false,
     "start_time": "2023-04-10T14:38:43.915035",
     "status": "completed"
    },
    "tags": []
   },
   "outputs": [],
   "source": [
    "# shuffling the data so that we can avoid the biaseness\n",
    "final_df=final_df.sample(final_df.shape[0])"
   ]
  },
  {
   "cell_type": "code",
   "execution_count": 59,
   "id": "cb82490b",
   "metadata": {
    "execution": {
     "iopub.execute_input": "2023-04-10T14:38:44.253365Z",
     "iopub.status.busy": "2023-04-10T14:38:44.252928Z",
     "iopub.status.idle": "2023-04-10T14:38:44.274691Z",
     "shell.execute_reply": "2023-04-10T14:38:44.273222Z"
    },
    "papermill": {
     "duration": 0.131028,
     "end_time": "2023-04-10T14:38:44.277319",
     "exception": false,
     "start_time": "2023-04-10T14:38:44.146291",
     "status": "completed"
    },
    "tags": []
   },
   "outputs": [
    {
     "data": {
      "text/html": [
       "<div>\n",
       "<style scoped>\n",
       "    .dataframe tbody tr th:only-of-type {\n",
       "        vertical-align: middle;\n",
       "    }\n",
       "\n",
       "    .dataframe tbody tr th {\n",
       "        vertical-align: top;\n",
       "    }\n",
       "\n",
       "    .dataframe thead th {\n",
       "        text-align: right;\n",
       "    }\n",
       "</style>\n",
       "<table border=\"1\" class=\"dataframe\">\n",
       "  <thead>\n",
       "    <tr style=\"text-align: right;\">\n",
       "      <th></th>\n",
       "      <th>batting_team</th>\n",
       "      <th>bowling_team</th>\n",
       "      <th>city</th>\n",
       "      <th>current_score</th>\n",
       "      <th>ball_left</th>\n",
       "      <th>wicket_left</th>\n",
       "      <th>crr</th>\n",
       "      <th>last_five</th>\n",
       "      <th>total_score</th>\n",
       "    </tr>\n",
       "  </thead>\n",
       "  <tbody>\n",
       "    <tr>\n",
       "      <th>28488</th>\n",
       "      <td>Sri Lanka</td>\n",
       "      <td>New Zealand</td>\n",
       "      <td>Chittagong</td>\n",
       "      <td>72</td>\n",
       "      <td>49</td>\n",
       "      <td>6</td>\n",
       "      <td>6.08</td>\n",
       "      <td>30.0</td>\n",
       "      <td>119</td>\n",
       "    </tr>\n",
       "    <tr>\n",
       "      <th>15118</th>\n",
       "      <td>India</td>\n",
       "      <td>Pakistan</td>\n",
       "      <td>Durban</td>\n",
       "      <td>122</td>\n",
       "      <td>19</td>\n",
       "      <td>4</td>\n",
       "      <td>7.25</td>\n",
       "      <td>41.0</td>\n",
       "      <td>141</td>\n",
       "    </tr>\n",
       "    <tr>\n",
       "      <th>6500</th>\n",
       "      <td>England</td>\n",
       "      <td>India</td>\n",
       "      <td>Manchester</td>\n",
       "      <td>154</td>\n",
       "      <td>2</td>\n",
       "      <td>2</td>\n",
       "      <td>7.83</td>\n",
       "      <td>42.0</td>\n",
       "      <td>159</td>\n",
       "    </tr>\n",
       "    <tr>\n",
       "      <th>9945</th>\n",
       "      <td>India</td>\n",
       "      <td>England</td>\n",
       "      <td>Mumbai</td>\n",
       "      <td>168</td>\n",
       "      <td>8</td>\n",
       "      <td>4</td>\n",
       "      <td>9.00</td>\n",
       "      <td>62.0</td>\n",
       "      <td>177</td>\n",
       "    </tr>\n",
       "    <tr>\n",
       "      <th>35235</th>\n",
       "      <td>New Zealand</td>\n",
       "      <td>Australia</td>\n",
       "      <td>Christchurch</td>\n",
       "      <td>214</td>\n",
       "      <td>0</td>\n",
       "      <td>4</td>\n",
       "      <td>10.70</td>\n",
       "      <td>68.0</td>\n",
       "      <td>214</td>\n",
       "    </tr>\n",
       "    <tr>\n",
       "      <th>...</th>\n",
       "      <td>...</td>\n",
       "      <td>...</td>\n",
       "      <td>...</td>\n",
       "      <td>...</td>\n",
       "      <td>...</td>\n",
       "      <td>...</td>\n",
       "      <td>...</td>\n",
       "      <td>...</td>\n",
       "      <td>...</td>\n",
       "    </tr>\n",
       "    <tr>\n",
       "      <th>16869</th>\n",
       "      <td>Australia</td>\n",
       "      <td>Bangladesh</td>\n",
       "      <td>Barbados</td>\n",
       "      <td>125</td>\n",
       "      <td>10</td>\n",
       "      <td>4</td>\n",
       "      <td>6.82</td>\n",
       "      <td>55.0</td>\n",
       "      <td>141</td>\n",
       "    </tr>\n",
       "    <tr>\n",
       "      <th>551</th>\n",
       "      <td>Pakistan</td>\n",
       "      <td>New Zealand</td>\n",
       "      <td>Dubai</td>\n",
       "      <td>79</td>\n",
       "      <td>59</td>\n",
       "      <td>8</td>\n",
       "      <td>7.77</td>\n",
       "      <td>46.0</td>\n",
       "      <td>161</td>\n",
       "    </tr>\n",
       "    <tr>\n",
       "      <th>9378</th>\n",
       "      <td>Sri Lanka</td>\n",
       "      <td>Bangladesh</td>\n",
       "      <td>Pallekele</td>\n",
       "      <td>72</td>\n",
       "      <td>76</td>\n",
       "      <td>9</td>\n",
       "      <td>9.82</td>\n",
       "      <td>40.0</td>\n",
       "      <td>198</td>\n",
       "    </tr>\n",
       "    <tr>\n",
       "      <th>26453</th>\n",
       "      <td>India</td>\n",
       "      <td>New Zealand</td>\n",
       "      <td>Wellington</td>\n",
       "      <td>52</td>\n",
       "      <td>83</td>\n",
       "      <td>8</td>\n",
       "      <td>8.43</td>\n",
       "      <td>38.0</td>\n",
       "      <td>165</td>\n",
       "    </tr>\n",
       "    <tr>\n",
       "      <th>15734</th>\n",
       "      <td>West Indies</td>\n",
       "      <td>England</td>\n",
       "      <td>London</td>\n",
       "      <td>130</td>\n",
       "      <td>35</td>\n",
       "      <td>7</td>\n",
       "      <td>9.18</td>\n",
       "      <td>61.0</td>\n",
       "      <td>169</td>\n",
       "    </tr>\n",
       "  </tbody>\n",
       "</table>\n",
       "<p>38940 rows × 9 columns</p>\n",
       "</div>"
      ],
      "text/plain": [
       "      batting_team bowling_team          city  current_score  ball_left  \\\n",
       "28488    Sri Lanka  New Zealand    Chittagong             72         49   \n",
       "15118        India     Pakistan        Durban            122         19   \n",
       "6500       England        India    Manchester            154          2   \n",
       "9945         India      England        Mumbai            168          8   \n",
       "35235  New Zealand    Australia  Christchurch            214          0   \n",
       "...            ...          ...           ...            ...        ...   \n",
       "16869    Australia   Bangladesh      Barbados            125         10   \n",
       "551       Pakistan  New Zealand         Dubai             79         59   \n",
       "9378     Sri Lanka   Bangladesh     Pallekele             72         76   \n",
       "26453        India  New Zealand    Wellington             52         83   \n",
       "15734  West Indies      England        London            130         35   \n",
       "\n",
       "       wicket_left    crr  last_five  total_score  \n",
       "28488            6   6.08       30.0          119  \n",
       "15118            4   7.25       41.0          141  \n",
       "6500             2   7.83       42.0          159  \n",
       "9945             4   9.00       62.0          177  \n",
       "35235            4  10.70       68.0          214  \n",
       "...            ...    ...        ...          ...  \n",
       "16869            4   6.82       55.0          141  \n",
       "551              8   7.77       46.0          161  \n",
       "9378             9   9.82       40.0          198  \n",
       "26453            8   8.43       38.0          165  \n",
       "15734            7   9.18       61.0          169  \n",
       "\n",
       "[38940 rows x 9 columns]"
      ]
     },
     "execution_count": 59,
     "metadata": {},
     "output_type": "execute_result"
    }
   ],
   "source": [
    "# Required dataset for model building\n",
    "final_df"
   ]
  },
  {
   "cell_type": "markdown",
   "id": "134a023b",
   "metadata": {
    "papermill": {
     "duration": 0.105627,
     "end_time": "2023-04-10T14:38:44.489157",
     "exception": false,
     "start_time": "2023-04-10T14:38:44.383530",
     "status": "completed"
    },
    "tags": []
   },
   "source": [
    "## Model building"
   ]
  },
  {
   "cell_type": "code",
   "execution_count": 60,
   "id": "a6e27d43",
   "metadata": {
    "execution": {
     "iopub.execute_input": "2023-04-10T14:38:44.702111Z",
     "iopub.status.busy": "2023-04-10T14:38:44.701668Z",
     "iopub.status.idle": "2023-04-10T14:38:44.725547Z",
     "shell.execute_reply": "2023-04-10T14:38:44.724398Z"
    },
    "papermill": {
     "duration": 0.134249,
     "end_time": "2023-04-10T14:38:44.728072",
     "exception": false,
     "start_time": "2023-04-10T14:38:44.593823",
     "status": "completed"
    },
    "tags": []
   },
   "outputs": [],
   "source": [
    "x=final_df.drop(columns=['total_score'])\n",
    "y=final_df['total_score']\n",
    "x_train,x_test,y_train,y_test=train_test_split(x,y,test_size=0.2,random_state=1)"
   ]
  },
  {
   "cell_type": "code",
   "execution_count": 61,
   "id": "72904e76",
   "metadata": {
    "execution": {
     "iopub.execute_input": "2023-04-10T14:38:44.941432Z",
     "iopub.status.busy": "2023-04-10T14:38:44.940252Z",
     "iopub.status.idle": "2023-04-10T14:38:44.945672Z",
     "shell.execute_reply": "2023-04-10T14:38:44.944775Z"
    },
    "papermill": {
     "duration": 0.114298,
     "end_time": "2023-04-10T14:38:44.947994",
     "exception": false,
     "start_time": "2023-04-10T14:38:44.833696",
     "status": "completed"
    },
    "tags": []
   },
   "outputs": [],
   "source": [
    "trf=ColumnTransformer([\n",
    "    ('trf',OneHotEncoder(sparse=False,drop='first'),['batting_team','bowling_team','city'])\n",
    "]\n",
    ",remainder='passthrough')"
   ]
  },
  {
   "cell_type": "markdown",
   "id": "20b1650e",
   "metadata": {
    "papermill": {
     "duration": 0.104428,
     "end_time": "2023-04-10T14:38:45.157493",
     "exception": false,
     "start_time": "2023-04-10T14:38:45.053065",
     "status": "completed"
    },
    "tags": []
   },
   "source": [
    "# LinearRegression"
   ]
  },
  {
   "cell_type": "code",
   "execution_count": 62,
   "id": "c79a0fc8",
   "metadata": {
    "execution": {
     "iopub.execute_input": "2023-04-10T14:38:45.367576Z",
     "iopub.status.busy": "2023-04-10T14:38:45.367172Z",
     "iopub.status.idle": "2023-04-10T14:38:45.372250Z",
     "shell.execute_reply": "2023-04-10T14:38:45.371283Z"
    },
    "papermill": {
     "duration": 0.113418,
     "end_time": "2023-04-10T14:38:45.374460",
     "exception": false,
     "start_time": "2023-04-10T14:38:45.261042",
     "status": "completed"
    },
    "tags": []
   },
   "outputs": [],
   "source": [
    "pipe_LinearR=Pipeline(steps=[\n",
    "    ('step1',trf),\n",
    "    ('step2',StandardScaler()),\n",
    "    ('step3',LinearRegression())\n",
    "])"
   ]
  },
  {
   "cell_type": "code",
   "execution_count": 63,
   "id": "b7bdb57d",
   "metadata": {
    "execution": {
     "iopub.execute_input": "2023-04-10T14:38:45.586840Z",
     "iopub.status.busy": "2023-04-10T14:38:45.586137Z",
     "iopub.status.idle": "2023-04-10T14:38:45.889550Z",
     "shell.execute_reply": "2023-04-10T14:38:45.887640Z"
    },
    "papermill": {
     "duration": 0.413993,
     "end_time": "2023-04-10T14:38:45.894039",
     "exception": false,
     "start_time": "2023-04-10T14:38:45.480046",
     "status": "completed"
    },
    "tags": []
   },
   "outputs": [
    {
     "name": "stdout",
     "output_type": "stream",
     "text": [
      "R2_score is:  0.6776735439087846\n",
      "Mean_absolute_error:  13.553786463428386\n"
     ]
    }
   ],
   "source": [
    "pipe_LinearR.fit(x_train,y_train)\n",
    "y_pred_LinearR=pipe_LinearR.predict(x_test)\n",
    "print(\"R2_score is: \",r2_score(y_test,y_pred_LinearR))\n",
    "print(\"Mean_absolute_error: \",mean_absolute_error(y_test,y_pred_LinearR))"
   ]
  },
  {
   "cell_type": "markdown",
   "id": "1fe121fe",
   "metadata": {
    "papermill": {
     "duration": 0.104352,
     "end_time": "2023-04-10T14:38:46.181860",
     "exception": false,
     "start_time": "2023-04-10T14:38:46.077508",
     "status": "completed"
    },
    "tags": []
   },
   "source": [
    "# RandomForestRegressor"
   ]
  },
  {
   "cell_type": "code",
   "execution_count": 64,
   "id": "ac50e7af",
   "metadata": {
    "execution": {
     "iopub.execute_input": "2023-04-10T14:38:46.451337Z",
     "iopub.status.busy": "2023-04-10T14:38:46.450851Z",
     "iopub.status.idle": "2023-04-10T14:38:46.456995Z",
     "shell.execute_reply": "2023-04-10T14:38:46.455865Z"
    },
    "papermill": {
     "duration": 0.114781,
     "end_time": "2023-04-10T14:38:46.459470",
     "exception": false,
     "start_time": "2023-04-10T14:38:46.344689",
     "status": "completed"
    },
    "tags": []
   },
   "outputs": [],
   "source": [
    "pipe_RFR=Pipeline(steps=[\n",
    "    ('step1',trf),\n",
    "    ('step2',StandardScaler()),\n",
    "    ('step3',RandomForestRegressor(n_estimators=1000,max_depth=12,random_state=1))\n",
    "])"
   ]
  },
  {
   "cell_type": "code",
   "execution_count": 65,
   "id": "afdf48f6",
   "metadata": {
    "execution": {
     "iopub.execute_input": "2023-04-10T14:38:46.677600Z",
     "iopub.status.busy": "2023-04-10T14:38:46.676779Z",
     "iopub.status.idle": "2023-04-10T14:40:46.928388Z",
     "shell.execute_reply": "2023-04-10T14:40:46.927045Z"
    },
    "papermill": {
     "duration": 120.469021,
     "end_time": "2023-04-10T14:40:47.035677",
     "exception": false,
     "start_time": "2023-04-10T14:38:46.566656",
     "status": "completed"
    },
    "tags": []
   },
   "outputs": [
    {
     "name": "stdout",
     "output_type": "stream",
     "text": [
      "R2_score is:  0.8596133566829607\n",
      "Mean_absolute_error:  8.30523629691686\n"
     ]
    }
   ],
   "source": [
    "pipe_RFR.fit(x_train,y_train)\n",
    "y_pred_RFR=pipe_RFR.predict(x_test)\n",
    "print(\"R2_score is: \",r2_score(y_test,y_pred_RFR))\n",
    "print(\"Mean_absolute_error: \",mean_absolute_error(y_test,y_pred_RFR))"
   ]
  },
  {
   "cell_type": "markdown",
   "id": "4dbf6112",
   "metadata": {
    "papermill": {
     "duration": 0.104975,
     "end_time": "2023-04-10T14:40:47.245508",
     "exception": false,
     "start_time": "2023-04-10T14:40:47.140533",
     "status": "completed"
    },
    "tags": []
   },
   "source": [
    "# XGBoost Regressor"
   ]
  },
  {
   "cell_type": "code",
   "execution_count": 66,
   "id": "c5e7bfb8",
   "metadata": {
    "execution": {
     "iopub.execute_input": "2023-04-10T14:40:47.454462Z",
     "iopub.status.busy": "2023-04-10T14:40:47.453717Z",
     "iopub.status.idle": "2023-04-10T14:40:47.459430Z",
     "shell.execute_reply": "2023-04-10T14:40:47.458465Z"
    },
    "papermill": {
     "duration": 0.113204,
     "end_time": "2023-04-10T14:40:47.461806",
     "exception": false,
     "start_time": "2023-04-10T14:40:47.348602",
     "status": "completed"
    },
    "tags": []
   },
   "outputs": [],
   "source": [
    "pipe=Pipeline(steps=[\n",
    "    ('step1',trf),\n",
    "    ('step2',StandardScaler()),\n",
    "    ('step3',XGBRegressor(n_estimators=1000,learning_rate=0.1,max_depth=12,random_state=1))\n",
    "])"
   ]
  },
  {
   "cell_type": "code",
   "execution_count": 67,
   "id": "fe8de64c",
   "metadata": {
    "execution": {
     "iopub.execute_input": "2023-04-10T14:40:47.673384Z",
     "iopub.status.busy": "2023-04-10T14:40:47.672926Z",
     "iopub.status.idle": "2023-04-10T14:42:24.553768Z",
     "shell.execute_reply": "2023-04-10T14:42:24.552761Z"
    },
    "papermill": {
     "duration": 97.096871,
     "end_time": "2023-04-10T14:42:24.662629",
     "exception": false,
     "start_time": "2023-04-10T14:40:47.565758",
     "status": "completed"
    },
    "tags": []
   },
   "outputs": [
    {
     "name": "stdout",
     "output_type": "stream",
     "text": [
      "R2_score is: 0.9882643083897508\n",
      "Mean_absolute_error:  1.5161577703772782\n"
     ]
    }
   ],
   "source": [
    "pipe.fit(x_train,y_train)\n",
    "y_pred=pipe.predict(x_test)\n",
    "print(\"R2_score is:\",r2_score(y_test,y_pred))\n",
    "print(\"Mean_absolute_error: \",mean_absolute_error(y_test,y_pred))"
   ]
  },
  {
   "cell_type": "markdown",
   "id": "6fabc9b9",
   "metadata": {
    "papermill": {
     "duration": 0.105551,
     "end_time": "2023-04-10T14:42:24.872338",
     "exception": false,
     "start_time": "2023-04-10T14:42:24.766787",
     "status": "completed"
    },
    "tags": []
   },
   "source": [
    "0.9866781632205727\n",
    "& 1.6847456896311206  Previopus r2_score & MAE when learning_rate=0.2 and depth 15"
   ]
  },
  {
   "cell_type": "code",
   "execution_count": null,
   "id": "8b377164",
   "metadata": {
    "papermill": {
     "duration": 0.105672,
     "end_time": "2023-04-10T14:42:25.081688",
     "exception": false,
     "start_time": "2023-04-10T14:42:24.976016",
     "status": "completed"
    },
    "tags": []
   },
   "outputs": [],
   "source": []
  }
 ],
 "metadata": {
  "kernelspec": {
   "display_name": "Python 3",
   "language": "python",
   "name": "python3"
  },
  "language_info": {
   "codemirror_mode": {
    "name": "ipython",
    "version": 3
   },
   "file_extension": ".py",
   "mimetype": "text/x-python",
   "name": "python",
   "nbconvert_exporter": "python",
   "pygments_lexer": "ipython3",
   "version": "3.7.12"
  },
  "papermill": {
   "default_parameters": {},
   "duration": 766.397834,
   "end_time": "2023-04-10T14:42:27.318070",
   "environment_variables": {},
   "exception": null,
   "input_path": "__notebook__.ipynb",
   "output_path": "__notebook__.ipynb",
   "parameters": {},
   "start_time": "2023-04-10T14:29:40.920236",
   "version": "2.3.4"
  }
 },
 "nbformat": 4,
 "nbformat_minor": 5
}
